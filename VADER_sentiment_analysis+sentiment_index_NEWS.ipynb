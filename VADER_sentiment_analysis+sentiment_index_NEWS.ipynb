{
 "cells": [
  {
   "cell_type": "markdown",
   "metadata": {},
   "source": [
    "### APPLICATION OF VADER SENTIMENT ANALYZER  TO NEWS DATASET"
   ]
  },
  {
   "cell_type": "code",
   "execution_count": 130,
   "metadata": {},
   "outputs": [
    {
     "name": "stderr",
     "output_type": "stream",
     "text": [
      "[nltk_data] Downloading package vader_lexicon to\n",
      "[nltk_data]     C:\\Users\\Giulia\\AppData\\Roaming\\nltk_data...\n",
      "[nltk_data]   Package vader_lexicon is already up-to-date!\n"
     ]
    }
   ],
   "source": [
    "import pandas as pd\n",
    "import matplotlib.pyplot as plt #plot the sentiment on a chart\n",
    "import nltk \n",
    "nltk.download('vader_lexicon')\n",
    "from nltk.sentiment.vader import SentimentIntensityAnalyzer #perform sentiment analysis \n",
    "import matplotlib.pyplot as plt"
   ]
  },
  {
   "cell_type": "code",
   "execution_count": 238,
   "metadata": {},
   "outputs": [],
   "source": [
    "data=pd.read_csv('TUTTE_NEWS.csv', sep=\";\", index_col=False)"
   ]
  },
  {
   "cell_type": "code",
   "execution_count": 239,
   "metadata": {
    "scrolled": true
   },
   "outputs": [
    {
     "data": {
      "text/html": [
       "<div>\n",
       "<style scoped>\n",
       "    .dataframe tbody tr th:only-of-type {\n",
       "        vertical-align: middle;\n",
       "    }\n",
       "\n",
       "    .dataframe tbody tr th {\n",
       "        vertical-align: top;\n",
       "    }\n",
       "\n",
       "    .dataframe thead th {\n",
       "        text-align: right;\n",
       "    }\n",
       "</style>\n",
       "<table border=\"1\" class=\"dataframe\">\n",
       "  <thead>\n",
       "    <tr style=\"text-align: right;\">\n",
       "      <th></th>\n",
       "      <th>date</th>\n",
       "      <th>headline</th>\n",
       "    </tr>\n",
       "  </thead>\n",
       "  <tbody>\n",
       "    <tr>\n",
       "      <th>0</th>\n",
       "      <td>01/01/2020</td>\n",
       "      <td>2020 Predictions: No Rate Cuts, No Recession, Sell Apple, Buy Energy</td>\n",
       "    </tr>\n",
       "    <tr>\n",
       "      <th>1</th>\n",
       "      <td>01/01/2020</td>\n",
       "      <td>3 Reasons Why Growth Investors Shouldn't Overlook Fair Isaac (FICO)</td>\n",
       "    </tr>\n",
       "    <tr>\n",
       "      <th>2</th>\n",
       "      <td>01/01/2020</td>\n",
       "      <td>3 Tech Giants That Could Benefit From The 5G Revolution In 2020</td>\n",
       "    </tr>\n",
       "    <tr>\n",
       "      <th>3</th>\n",
       "      <td>01/01/2020</td>\n",
       "      <td>ACA or CBPX: Which Is the Better Value Stock Right Now?</td>\n",
       "    </tr>\n",
       "    <tr>\n",
       "      <th>4</th>\n",
       "      <td>01/01/2020</td>\n",
       "      <td>All You Need to Know About Alexion (ALXN) Rating Upgrade to Strong Buy</td>\n",
       "    </tr>\n",
       "    <tr>\n",
       "      <th>...</th>\n",
       "      <td>...</td>\n",
       "      <td>...</td>\n",
       "    </tr>\n",
       "    <tr>\n",
       "      <th>73569</th>\n",
       "      <td>28/08/2020</td>\n",
       "      <td>Weyland Tech assumes the name of its subsidiary, Logiq, emerges strong for its customer data</td>\n",
       "    </tr>\n",
       "    <tr>\n",
       "      <th>73570</th>\n",
       "      <td>28/08/2020</td>\n",
       "      <td>Whipsaw action in gold resolves to the upside, with $2K again in sight</td>\n",
       "    </tr>\n",
       "    <tr>\n",
       "      <th>73571</th>\n",
       "      <td>28/08/2020</td>\n",
       "      <td>White House interviewing replacements for FTC head - Politico</td>\n",
       "    </tr>\n",
       "    <tr>\n",
       "      <th>73572</th>\n",
       "      <td>28/08/2020</td>\n",
       "      <td>Workhorse drops on reported HorseFly drone flaws - Barron's</td>\n",
       "    </tr>\n",
       "    <tr>\n",
       "      <th>73573</th>\n",
       "      <td>28/08/2020</td>\n",
       "      <td>Yiren Digital -6.5% on depressing Q2 numbers</td>\n",
       "    </tr>\n",
       "  </tbody>\n",
       "</table>\n",
       "<p>73574 rows × 2 columns</p>\n",
       "</div>"
      ],
      "text/plain": [
       "             date  \\\n",
       "0      01/01/2020   \n",
       "1      01/01/2020   \n",
       "2      01/01/2020   \n",
       "3      01/01/2020   \n",
       "4      01/01/2020   \n",
       "...           ...   \n",
       "73569  28/08/2020   \n",
       "73570  28/08/2020   \n",
       "73571  28/08/2020   \n",
       "73572  28/08/2020   \n",
       "73573  28/08/2020   \n",
       "\n",
       "                                                                                             headline  \n",
       "0                                2020 Predictions: No Rate Cuts, No Recession, Sell Apple, Buy Energy  \n",
       "1                                 3 Reasons Why Growth Investors Shouldn't Overlook Fair Isaac (FICO)  \n",
       "2                                     3 Tech Giants That Could Benefit From The 5G Revolution In 2020  \n",
       "3                                             ACA or CBPX: Which Is the Better Value Stock Right Now?  \n",
       "4                              All You Need to Know About Alexion (ALXN) Rating Upgrade to Strong Buy  \n",
       "...                                                                                               ...  \n",
       "73569   Weyland Tech assumes the name of its subsidiary, Logiq, emerges strong for its customer data   \n",
       "73570                         Whipsaw action in gold resolves to the upside, with $2K again in sight   \n",
       "73571                                  White House interviewing replacements for FTC head - Politico   \n",
       "73572                                    Workhorse drops on reported HorseFly drone flaws - Barron's   \n",
       "73573                                                   Yiren Digital -6.5% on depressing Q2 numbers   \n",
       "\n",
       "[73574 rows x 2 columns]"
      ]
     },
     "execution_count": 239,
     "metadata": {},
     "output_type": "execute_result"
    }
   ],
   "source": [
    "pd.set_option('display.max_colwidth',None)\n",
    "data"
   ]
  },
  {
   "cell_type": "code",
   "execution_count": 240,
   "metadata": {
    "scrolled": true
   },
   "outputs": [
    {
     "data": {
      "text/html": [
       "<div>\n",
       "<style scoped>\n",
       "    .dataframe tbody tr th:only-of-type {\n",
       "        vertical-align: middle;\n",
       "    }\n",
       "\n",
       "    .dataframe tbody tr th {\n",
       "        vertical-align: top;\n",
       "    }\n",
       "\n",
       "    .dataframe thead th {\n",
       "        text-align: right;\n",
       "    }\n",
       "</style>\n",
       "<table border=\"1\" class=\"dataframe\">\n",
       "  <thead>\n",
       "    <tr style=\"text-align: right;\">\n",
       "      <th></th>\n",
       "      <th>date</th>\n",
       "      <th>headline</th>\n",
       "      <th>compound</th>\n",
       "    </tr>\n",
       "  </thead>\n",
       "  <tbody>\n",
       "    <tr>\n",
       "      <th>0</th>\n",
       "      <td>01/01/2020</td>\n",
       "      <td>2020 Predictions: No Rate Cuts, No Recession, Sell Apple, Buy Energy</td>\n",
       "      <td>-0.7430</td>\n",
       "    </tr>\n",
       "    <tr>\n",
       "      <th>1</th>\n",
       "      <td>01/01/2020</td>\n",
       "      <td>3 Reasons Why Growth Investors Shouldn't Overlook Fair Isaac (FICO)</td>\n",
       "      <td>0.1625</td>\n",
       "    </tr>\n",
       "    <tr>\n",
       "      <th>2</th>\n",
       "      <td>01/01/2020</td>\n",
       "      <td>3 Tech Giants That Could Benefit From The 5G Revolution In 2020</td>\n",
       "      <td>0.4588</td>\n",
       "    </tr>\n",
       "    <tr>\n",
       "      <th>3</th>\n",
       "      <td>01/01/2020</td>\n",
       "      <td>ACA or CBPX: Which Is the Better Value Stock Right Now?</td>\n",
       "      <td>0.6486</td>\n",
       "    </tr>\n",
       "    <tr>\n",
       "      <th>4</th>\n",
       "      <td>01/01/2020</td>\n",
       "      <td>All You Need to Know About Alexion (ALXN) Rating Upgrade to Strong Buy</td>\n",
       "      <td>0.5106</td>\n",
       "    </tr>\n",
       "    <tr>\n",
       "      <th>...</th>\n",
       "      <td>...</td>\n",
       "      <td>...</td>\n",
       "      <td>...</td>\n",
       "    </tr>\n",
       "    <tr>\n",
       "      <th>73569</th>\n",
       "      <td>28/08/2020</td>\n",
       "      <td>Weyland Tech assumes the name of its subsidiary, Logiq, emerges strong for its customer data</td>\n",
       "      <td>0.5106</td>\n",
       "    </tr>\n",
       "    <tr>\n",
       "      <th>73570</th>\n",
       "      <td>28/08/2020</td>\n",
       "      <td>Whipsaw action in gold resolves to the upside, with $2K again in sight</td>\n",
       "      <td>0.1779</td>\n",
       "    </tr>\n",
       "    <tr>\n",
       "      <th>73571</th>\n",
       "      <td>28/08/2020</td>\n",
       "      <td>White House interviewing replacements for FTC head - Politico</td>\n",
       "      <td>0.0000</td>\n",
       "    </tr>\n",
       "    <tr>\n",
       "      <th>73572</th>\n",
       "      <td>28/08/2020</td>\n",
       "      <td>Workhorse drops on reported HorseFly drone flaws - Barron's</td>\n",
       "      <td>0.0000</td>\n",
       "    </tr>\n",
       "    <tr>\n",
       "      <th>73573</th>\n",
       "      <td>28/08/2020</td>\n",
       "      <td>Yiren Digital -6.5% on depressing Q2 numbers</td>\n",
       "      <td>-0.3818</td>\n",
       "    </tr>\n",
       "  </tbody>\n",
       "</table>\n",
       "<p>73574 rows × 3 columns</p>\n",
       "</div>"
      ],
      "text/plain": [
       "             date  \\\n",
       "0      01/01/2020   \n",
       "1      01/01/2020   \n",
       "2      01/01/2020   \n",
       "3      01/01/2020   \n",
       "4      01/01/2020   \n",
       "...           ...   \n",
       "73569  28/08/2020   \n",
       "73570  28/08/2020   \n",
       "73571  28/08/2020   \n",
       "73572  28/08/2020   \n",
       "73573  28/08/2020   \n",
       "\n",
       "                                                                                             headline  \\\n",
       "0                                2020 Predictions: No Rate Cuts, No Recession, Sell Apple, Buy Energy   \n",
       "1                                 3 Reasons Why Growth Investors Shouldn't Overlook Fair Isaac (FICO)   \n",
       "2                                     3 Tech Giants That Could Benefit From The 5G Revolution In 2020   \n",
       "3                                             ACA or CBPX: Which Is the Better Value Stock Right Now?   \n",
       "4                              All You Need to Know About Alexion (ALXN) Rating Upgrade to Strong Buy   \n",
       "...                                                                                               ...   \n",
       "73569   Weyland Tech assumes the name of its subsidiary, Logiq, emerges strong for its customer data    \n",
       "73570                         Whipsaw action in gold resolves to the upside, with $2K again in sight    \n",
       "73571                                  White House interviewing replacements for FTC head - Politico    \n",
       "73572                                    Workhorse drops on reported HorseFly drone flaws - Barron's    \n",
       "73573                                                   Yiren Digital -6.5% on depressing Q2 numbers    \n",
       "\n",
       "       compound  \n",
       "0       -0.7430  \n",
       "1        0.1625  \n",
       "2        0.4588  \n",
       "3        0.6486  \n",
       "4        0.5106  \n",
       "...         ...  \n",
       "73569    0.5106  \n",
       "73570    0.1779  \n",
       "73571    0.0000  \n",
       "73572    0.0000  \n",
       "73573   -0.3818  \n",
       "\n",
       "[73574 rows x 3 columns]"
      ]
     },
     "execution_count": 240,
     "metadata": {},
     "output_type": "execute_result"
    }
   ],
   "source": [
    "vader = SentimentIntensityAnalyzer() \n",
    "\n",
    "#compound: The normalized compound score which calculates the sum of all lexicon ratings and takes values from -1 to 1\n",
    "\n",
    "# Iterate through the headlines and get the polarity scores using vader\n",
    "f = lambda title: vader.polarity_scores(title)['compound']\n",
    "data['compound'] = data['headline'].apply(f)\n",
    "\n",
    "data"
   ]
  },
  {
   "cell_type": "code",
   "execution_count": 241,
   "metadata": {},
   "outputs": [
    {
     "data": {
      "text/html": [
       "<div>\n",
       "<style scoped>\n",
       "    .dataframe tbody tr th:only-of-type {\n",
       "        vertical-align: middle;\n",
       "    }\n",
       "\n",
       "    .dataframe tbody tr th {\n",
       "        vertical-align: top;\n",
       "    }\n",
       "\n",
       "    .dataframe thead th {\n",
       "        text-align: right;\n",
       "    }\n",
       "</style>\n",
       "<table border=\"1\" class=\"dataframe\">\n",
       "  <thead>\n",
       "    <tr style=\"text-align: right;\">\n",
       "      <th></th>\n",
       "      <th>date</th>\n",
       "      <th>headline</th>\n",
       "      <th>compound</th>\n",
       "    </tr>\n",
       "  </thead>\n",
       "  <tbody>\n",
       "    <tr>\n",
       "      <th>0</th>\n",
       "      <td>2020-01-01</td>\n",
       "      <td>2020 Predictions: No Rate Cuts, No Recession, Sell Apple, Buy Energy</td>\n",
       "      <td>-0.7430</td>\n",
       "    </tr>\n",
       "    <tr>\n",
       "      <th>1</th>\n",
       "      <td>2020-01-01</td>\n",
       "      <td>3 Reasons Why Growth Investors Shouldn't Overlook Fair Isaac (FICO)</td>\n",
       "      <td>0.1625</td>\n",
       "    </tr>\n",
       "    <tr>\n",
       "      <th>2</th>\n",
       "      <td>2020-01-01</td>\n",
       "      <td>3 Tech Giants That Could Benefit From The 5G Revolution In 2020</td>\n",
       "      <td>0.4588</td>\n",
       "    </tr>\n",
       "    <tr>\n",
       "      <th>3</th>\n",
       "      <td>2020-01-01</td>\n",
       "      <td>ACA or CBPX: Which Is the Better Value Stock Right Now?</td>\n",
       "      <td>0.6486</td>\n",
       "    </tr>\n",
       "    <tr>\n",
       "      <th>4</th>\n",
       "      <td>2020-01-01</td>\n",
       "      <td>All You Need to Know About Alexion (ALXN) Rating Upgrade to Strong Buy</td>\n",
       "      <td>0.5106</td>\n",
       "    </tr>\n",
       "    <tr>\n",
       "      <th>...</th>\n",
       "      <td>...</td>\n",
       "      <td>...</td>\n",
       "      <td>...</td>\n",
       "    </tr>\n",
       "    <tr>\n",
       "      <th>73569</th>\n",
       "      <td>2020-08-28</td>\n",
       "      <td>Weyland Tech assumes the name of its subsidiary, Logiq, emerges strong for its customer data</td>\n",
       "      <td>0.5106</td>\n",
       "    </tr>\n",
       "    <tr>\n",
       "      <th>73570</th>\n",
       "      <td>2020-08-28</td>\n",
       "      <td>Whipsaw action in gold resolves to the upside, with $2K again in sight</td>\n",
       "      <td>0.1779</td>\n",
       "    </tr>\n",
       "    <tr>\n",
       "      <th>73571</th>\n",
       "      <td>2020-08-28</td>\n",
       "      <td>White House interviewing replacements for FTC head - Politico</td>\n",
       "      <td>0.0000</td>\n",
       "    </tr>\n",
       "    <tr>\n",
       "      <th>73572</th>\n",
       "      <td>2020-08-28</td>\n",
       "      <td>Workhorse drops on reported HorseFly drone flaws - Barron's</td>\n",
       "      <td>0.0000</td>\n",
       "    </tr>\n",
       "    <tr>\n",
       "      <th>73573</th>\n",
       "      <td>2020-08-28</td>\n",
       "      <td>Yiren Digital -6.5% on depressing Q2 numbers</td>\n",
       "      <td>-0.3818</td>\n",
       "    </tr>\n",
       "  </tbody>\n",
       "</table>\n",
       "<p>73574 rows × 3 columns</p>\n",
       "</div>"
      ],
      "text/plain": [
       "            date  \\\n",
       "0     2020-01-01   \n",
       "1     2020-01-01   \n",
       "2     2020-01-01   \n",
       "3     2020-01-01   \n",
       "4     2020-01-01   \n",
       "...          ...   \n",
       "73569 2020-08-28   \n",
       "73570 2020-08-28   \n",
       "73571 2020-08-28   \n",
       "73572 2020-08-28   \n",
       "73573 2020-08-28   \n",
       "\n",
       "                                                                                             headline  \\\n",
       "0                                2020 Predictions: No Rate Cuts, No Recession, Sell Apple, Buy Energy   \n",
       "1                                 3 Reasons Why Growth Investors Shouldn't Overlook Fair Isaac (FICO)   \n",
       "2                                     3 Tech Giants That Could Benefit From The 5G Revolution In 2020   \n",
       "3                                             ACA or CBPX: Which Is the Better Value Stock Right Now?   \n",
       "4                              All You Need to Know About Alexion (ALXN) Rating Upgrade to Strong Buy   \n",
       "...                                                                                               ...   \n",
       "73569   Weyland Tech assumes the name of its subsidiary, Logiq, emerges strong for its customer data    \n",
       "73570                         Whipsaw action in gold resolves to the upside, with $2K again in sight    \n",
       "73571                                  White House interviewing replacements for FTC head - Politico    \n",
       "73572                                    Workhorse drops on reported HorseFly drone flaws - Barron's    \n",
       "73573                                                   Yiren Digital -6.5% on depressing Q2 numbers    \n",
       "\n",
       "       compound  \n",
       "0       -0.7430  \n",
       "1        0.1625  \n",
       "2        0.4588  \n",
       "3        0.6486  \n",
       "4        0.5106  \n",
       "...         ...  \n",
       "73569    0.5106  \n",
       "73570    0.1779  \n",
       "73571    0.0000  \n",
       "73572    0.0000  \n",
       "73573   -0.3818  \n",
       "\n",
       "[73574 rows x 3 columns]"
      ]
     },
     "execution_count": 241,
     "metadata": {},
     "output_type": "execute_result"
    }
   ],
   "source": [
    "data['date'] = pd.to_datetime(data['date'])\n",
    "data"
   ]
  },
  {
   "cell_type": "code",
   "execution_count": 245,
   "metadata": {},
   "outputs": [
    {
     "data": {
      "text/plain": [
       "0        1\n",
       "1        1\n",
       "2        1\n",
       "3        1\n",
       "4        1\n",
       "        ..\n",
       "73569    8\n",
       "73570    8\n",
       "73571    8\n",
       "73572    8\n",
       "73573    8\n",
       "Name: date, Length: 73574, dtype: int64"
      ]
     },
     "execution_count": 245,
     "metadata": {},
     "output_type": "execute_result"
    }
   ],
   "source": [
    "data.date.dt.month #OK, I HAVE DATA TILL AUGUST"
   ]
  },
  {
   "cell_type": "markdown",
   "metadata": {},
   "source": [
    "COMPUTE AVG OF COMPOUND SCORE FOR EACH DAY"
   ]
  },
  {
   "cell_type": "code",
   "execution_count": 170,
   "metadata": {},
   "outputs": [],
   "source": [
    "mean_df = data.groupby(\"date\").mean()"
   ]
  },
  {
   "cell_type": "code",
   "execution_count": 168,
   "metadata": {},
   "outputs": [
    {
     "data": {
      "text/html": [
       "<div>\n",
       "<style scoped>\n",
       "    .dataframe tbody tr th:only-of-type {\n",
       "        vertical-align: middle;\n",
       "    }\n",
       "\n",
       "    .dataframe tbody tr th {\n",
       "        vertical-align: top;\n",
       "    }\n",
       "\n",
       "    .dataframe thead th {\n",
       "        text-align: right;\n",
       "    }\n",
       "</style>\n",
       "<table border=\"1\" class=\"dataframe\">\n",
       "  <thead>\n",
       "    <tr style=\"text-align: right;\">\n",
       "      <th></th>\n",
       "      <th>compound</th>\n",
       "    </tr>\n",
       "    <tr>\n",
       "      <th>date</th>\n",
       "      <th></th>\n",
       "    </tr>\n",
       "  </thead>\n",
       "  <tbody>\n",
       "    <tr>\n",
       "      <th>2020-01-01</th>\n",
       "      <td>0.168709</td>\n",
       "    </tr>\n",
       "    <tr>\n",
       "      <th>2020-01-02</th>\n",
       "      <td>0.132627</td>\n",
       "    </tr>\n",
       "    <tr>\n",
       "      <th>2020-01-03</th>\n",
       "      <td>0.107134</td>\n",
       "    </tr>\n",
       "    <tr>\n",
       "      <th>2020-01-04</th>\n",
       "      <td>0.012900</td>\n",
       "    </tr>\n",
       "    <tr>\n",
       "      <th>2020-01-05</th>\n",
       "      <td>-0.014406</td>\n",
       "    </tr>\n",
       "    <tr>\n",
       "      <th>...</th>\n",
       "      <td>...</td>\n",
       "    </tr>\n",
       "    <tr>\n",
       "      <th>2020-08-24</th>\n",
       "      <td>0.048212</td>\n",
       "    </tr>\n",
       "    <tr>\n",
       "      <th>2020-08-25</th>\n",
       "      <td>0.061023</td>\n",
       "    </tr>\n",
       "    <tr>\n",
       "      <th>2020-08-26</th>\n",
       "      <td>0.062438</td>\n",
       "    </tr>\n",
       "    <tr>\n",
       "      <th>2020-08-27</th>\n",
       "      <td>0.068652</td>\n",
       "    </tr>\n",
       "    <tr>\n",
       "      <th>2020-08-28</th>\n",
       "      <td>0.050604</td>\n",
       "    </tr>\n",
       "  </tbody>\n",
       "</table>\n",
       "<p>241 rows × 1 columns</p>\n",
       "</div>"
      ],
      "text/plain": [
       "            compound\n",
       "date                \n",
       "2020-01-01  0.168709\n",
       "2020-01-02  0.132627\n",
       "2020-01-03  0.107134\n",
       "2020-01-04  0.012900\n",
       "2020-01-05 -0.014406\n",
       "...              ...\n",
       "2020-08-24  0.048212\n",
       "2020-08-25  0.061023\n",
       "2020-08-26  0.062438\n",
       "2020-08-27  0.068652\n",
       "2020-08-28  0.050604\n",
       "\n",
       "[241 rows x 1 columns]"
      ]
     },
     "execution_count": 168,
     "metadata": {},
     "output_type": "execute_result"
    }
   ],
   "source": [
    "mean_df"
   ]
  },
  {
   "cell_type": "code",
   "execution_count": 171,
   "metadata": {},
   "outputs": [
    {
     "data": {
      "text/html": [
       "<div>\n",
       "<style scoped>\n",
       "    .dataframe tbody tr th:only-of-type {\n",
       "        vertical-align: middle;\n",
       "    }\n",
       "\n",
       "    .dataframe tbody tr th {\n",
       "        vertical-align: top;\n",
       "    }\n",
       "\n",
       "    .dataframe thead th {\n",
       "        text-align: right;\n",
       "    }\n",
       "</style>\n",
       "<table border=\"1\" class=\"dataframe\">\n",
       "  <thead>\n",
       "    <tr style=\"text-align: right;\">\n",
       "      <th></th>\n",
       "      <th>vader_score</th>\n",
       "    </tr>\n",
       "    <tr>\n",
       "      <th>date</th>\n",
       "      <th></th>\n",
       "    </tr>\n",
       "  </thead>\n",
       "  <tbody>\n",
       "    <tr>\n",
       "      <th>2020-01-01</th>\n",
       "      <td>0.168709</td>\n",
       "    </tr>\n",
       "    <tr>\n",
       "      <th>2020-01-02</th>\n",
       "      <td>0.132627</td>\n",
       "    </tr>\n",
       "    <tr>\n",
       "      <th>2020-01-03</th>\n",
       "      <td>0.107134</td>\n",
       "    </tr>\n",
       "    <tr>\n",
       "      <th>2020-01-04</th>\n",
       "      <td>0.012900</td>\n",
       "    </tr>\n",
       "    <tr>\n",
       "      <th>2020-01-05</th>\n",
       "      <td>-0.014406</td>\n",
       "    </tr>\n",
       "    <tr>\n",
       "      <th>...</th>\n",
       "      <td>...</td>\n",
       "    </tr>\n",
       "    <tr>\n",
       "      <th>2020-08-24</th>\n",
       "      <td>0.048212</td>\n",
       "    </tr>\n",
       "    <tr>\n",
       "      <th>2020-08-25</th>\n",
       "      <td>0.061023</td>\n",
       "    </tr>\n",
       "    <tr>\n",
       "      <th>2020-08-26</th>\n",
       "      <td>0.062438</td>\n",
       "    </tr>\n",
       "    <tr>\n",
       "      <th>2020-08-27</th>\n",
       "      <td>0.068652</td>\n",
       "    </tr>\n",
       "    <tr>\n",
       "      <th>2020-08-28</th>\n",
       "      <td>0.050604</td>\n",
       "    </tr>\n",
       "  </tbody>\n",
       "</table>\n",
       "<p>241 rows × 1 columns</p>\n",
       "</div>"
      ],
      "text/plain": [
       "            vader_score\n",
       "date                   \n",
       "2020-01-01     0.168709\n",
       "2020-01-02     0.132627\n",
       "2020-01-03     0.107134\n",
       "2020-01-04     0.012900\n",
       "2020-01-05    -0.014406\n",
       "...                 ...\n",
       "2020-08-24     0.048212\n",
       "2020-08-25     0.061023\n",
       "2020-08-26     0.062438\n",
       "2020-08-27     0.068652\n",
       "2020-08-28     0.050604\n",
       "\n",
       "[241 rows x 1 columns]"
      ]
     },
     "execution_count": 171,
     "metadata": {},
     "output_type": "execute_result"
    }
   ],
   "source": [
    "mean_df.rename(columns = {'compound':'vader_score'}, inplace = True)\n",
    "mean_df"
   ]
  },
  {
   "cell_type": "code",
   "execution_count": 173,
   "metadata": {},
   "outputs": [],
   "source": [
    "mean_df.to_csv('sentiment_index/news_vader_score.csv')"
   ]
  },
  {
   "cell_type": "markdown",
   "metadata": {},
   "source": [
    "COUNT NUMBER OF NEWS PER EACH DAY"
   ]
  },
  {
   "cell_type": "code",
   "execution_count": 216,
   "metadata": {},
   "outputs": [
    {
     "data": {
      "text/plain": [
       "date\n",
       "2020-01-01     57\n",
       "2020-01-02    131\n",
       "2020-01-03    196\n",
       "2020-01-04     26\n",
       "2020-01-05     34\n",
       "             ... \n",
       "2020-08-24    284\n",
       "2020-08-25    329\n",
       "2020-08-26    276\n",
       "2020-08-27    314\n",
       "2020-08-28    176\n",
       "Name: headline, Length: 241, dtype: int64"
      ]
     },
     "execution_count": 216,
     "metadata": {},
     "output_type": "execute_result"
    }
   ],
   "source": [
    "n_news = data.groupby(\"date\")['headline'].count()\n",
    "n_news"
   ]
  },
  {
   "cell_type": "code",
   "execution_count": 278,
   "metadata": {},
   "outputs": [
    {
     "data": {
      "text/plain": [
       "Text(0.5, 1.0, 'NUMBER OF NEWS FOR EACH DAY')"
      ]
     },
     "execution_count": 278,
     "metadata": {},
     "output_type": "execute_result"
    },
    {
     "data": {
      "image/png": "[encoded data removed]",
      "text/plain": [
       "<Figure size 432x288 with 1 Axes>"
      ]
     },
     "metadata": {
      "needs_background": "light"
     },
     "output_type": "display_data"
    }
   ],
   "source": [
    "n_news.plot()\n",
    "plt.title(\"NUMBER OF NEWS FOR EACH DAY\")"
   ]
  },
  {
   "cell_type": "markdown",
   "metadata": {},
   "source": [
    "COUNT NUMBER OF NEWS PER EACH MONTH"
   ]
  },
  {
   "cell_type": "code",
   "execution_count": 276,
   "metadata": {},
   "outputs": [
    {
     "data": {
      "text/plain": [
       "Int64Index([1, 1, 1, 1, 1, 1, 1, 1, 1, 1,\n",
       "            ...\n",
       "            8, 8, 8, 8, 8, 8, 8, 8, 8, 8],\n",
       "           dtype='int64', name='date', length=241)"
      ]
     },
     "execution_count": 276,
     "metadata": {},
     "output_type": "execute_result"
    }
   ],
   "source": [
    "n_news.index.month #DATA TILL AUGUST"
   ]
  },
  {
   "cell_type": "code",
   "execution_count": 274,
   "metadata": {},
   "outputs": [
    {
     "data": {
      "text/plain": [
       "Text(0.5, 1.0, 'NUMBER OF NEWS FOR EACH MONTH')"
      ]
     },
     "execution_count": 274,
     "metadata": {},
     "output_type": "execute_result"
    },
    {
     "data": {
      "image/png": "[encoded data removed]",
      "text/plain": [
       "<Figure size 432x288 with 1 Axes>"
      ]
     },
     "metadata": {
      "needs_background": "light"
     },
     "output_type": "display_data"
    }
   ],
   "source": [
    "plt.bar(n_news.index.month,n_news)\n",
    "plt.title(\"NUMBER OF NEWS FOR EACH MONTH\")"
   ]
  },
  {
   "cell_type": "markdown",
   "metadata": {},
   "source": [
    "PLOT THE VADER SENTIMENT SCORES FOR NEWS DATASET"
   ]
  },
  {
   "cell_type": "code",
   "execution_count": 280,
   "metadata": {},
   "outputs": [
    {
     "data": {
      "text/plain": [
       "<matplotlib.lines.Line2D at 0x21c2ac32b48>"
      ]
     },
     "execution_count": 280,
     "metadata": {},
     "output_type": "execute_result"
    },
    {
     "data": {
      "image/png": "[encoded data removed]",
      "text/plain": [
       "<Figure size 432x288 with 1 Axes>"
      ]
     },
     "metadata": {
      "needs_background": "light"
     },
     "output_type": "display_data"
    }
   ],
   "source": [
    "mean_df.plot()\n",
    "plt.axhline(0, color='red')"
   ]
  },
  {
   "cell_type": "code",
   "execution_count": 272,
   "metadata": {},
   "outputs": [
    {
     "data": {
      "text/html": [
       "<div>\n",
       "<style scoped>\n",
       "    .dataframe tbody tr th:only-of-type {\n",
       "        vertical-align: middle;\n",
       "    }\n",
       "\n",
       "    .dataframe tbody tr th {\n",
       "        vertical-align: top;\n",
       "    }\n",
       "\n",
       "    .dataframe thead th {\n",
       "        text-align: right;\n",
       "    }\n",
       "</style>\n",
       "<table border=\"1\" class=\"dataframe\">\n",
       "  <thead>\n",
       "    <tr style=\"text-align: right;\">\n",
       "      <th></th>\n",
       "      <th>vader_score</th>\n",
       "    </tr>\n",
       "    <tr>\n",
       "      <th>date</th>\n",
       "      <th></th>\n",
       "    </tr>\n",
       "  </thead>\n",
       "  <tbody>\n",
       "    <tr>\n",
       "      <th>1</th>\n",
       "      <td>0.110054</td>\n",
       "    </tr>\n",
       "    <tr>\n",
       "      <th>2</th>\n",
       "      <td>0.152155</td>\n",
       "    </tr>\n",
       "    <tr>\n",
       "      <th>3</th>\n",
       "      <td>0.094190</td>\n",
       "    </tr>\n",
       "    <tr>\n",
       "      <th>4</th>\n",
       "      <td>0.068626</td>\n",
       "    </tr>\n",
       "    <tr>\n",
       "      <th>5</th>\n",
       "      <td>0.097794</td>\n",
       "    </tr>\n",
       "    <tr>\n",
       "      <th>6</th>\n",
       "      <td>-0.017497</td>\n",
       "    </tr>\n",
       "    <tr>\n",
       "      <th>7</th>\n",
       "      <td>0.031538</td>\n",
       "    </tr>\n",
       "    <tr>\n",
       "      <th>8</th>\n",
       "      <td>0.020772</td>\n",
       "    </tr>\n",
       "  </tbody>\n",
       "</table>\n",
       "</div>"
      ],
      "text/plain": [
       "      vader_score\n",
       "date             \n",
       "1        0.110054\n",
       "2        0.152155\n",
       "3        0.094190\n",
       "4        0.068626\n",
       "5        0.097794\n",
       "6       -0.017497\n",
       "7        0.031538\n",
       "8        0.020772"
      ]
     },
     "execution_count": 272,
     "metadata": {},
     "output_type": "execute_result"
    }
   ],
   "source": [
    "d2=mean_df.groupby(mean_df.index.month).mean() #avg of each month\n",
    "d2"
   ]
  },
  {
   "cell_type": "code",
   "execution_count": 273,
   "metadata": {},
   "outputs": [
    {
     "data": {
      "text/plain": [
       "<AxesSubplot:xlabel='date'>"
      ]
     },
     "execution_count": 273,
     "metadata": {},
     "output_type": "execute_result"
    },
    {
     "data": {
      "image/png": "[encoded data removed]",
      "text/plain": [
       "<Figure size 432x288 with 1 Axes>"
      ]
     },
     "metadata": {
      "needs_background": "light"
     },
     "output_type": "display_data"
    }
   ],
   "source": [
    "d2.plot() #NEED TO INVESTIGATE WHAT HAPPENED IN JUNE.. PROBABLY BECAUSE THERE ARE ONLY FEW NEWS"
   ]
  },
  {
   "cell_type": "markdown",
   "metadata": {},
   "source": [
    "CREATION OF VADER LABELS (POSITIVE, NEUTRAL, NEGATIVE) WITH A COMPOUND TRESHOLD OF [ -0.025, +0.025 ]"
   ]
  },
  {
   "cell_type": "code",
   "execution_count": 232,
   "metadata": {},
   "outputs": [
    {
     "data": {
      "text/html": [
       "<div>\n",
       "<style scoped>\n",
       "    .dataframe tbody tr th:only-of-type {\n",
       "        vertical-align: middle;\n",
       "    }\n",
       "\n",
       "    .dataframe tbody tr th {\n",
       "        vertical-align: top;\n",
       "    }\n",
       "\n",
       "    .dataframe thead th {\n",
       "        text-align: right;\n",
       "    }\n",
       "</style>\n",
       "<table border=\"1\" class=\"dataframe\">\n",
       "  <thead>\n",
       "    <tr style=\"text-align: right;\">\n",
       "      <th></th>\n",
       "      <th>date</th>\n",
       "      <th>headline</th>\n",
       "      <th>vader_score</th>\n",
       "      <th>vader_label</th>\n",
       "    </tr>\n",
       "  </thead>\n",
       "  <tbody>\n",
       "    <tr>\n",
       "      <th>69492</th>\n",
       "      <td>2020-08-11</td>\n",
       "      <td>Berkshire Hathaway may buy PPL's U.K. electric utility unit, Seaport says in upgrade</td>\n",
       "      <td>0.0000</td>\n",
       "      <td>neutral</td>\n",
       "    </tr>\n",
       "    <tr>\n",
       "      <th>13511</th>\n",
       "      <td>2020-02-11</td>\n",
       "      <td>First Foundation Advisors Buys Salesforce. ...</td>\n",
       "      <td>0.0000</td>\n",
       "      <td>neutral</td>\n",
       "    </tr>\n",
       "    <tr>\n",
       "      <th>65503</th>\n",
       "      <td>2020-07-30</td>\n",
       "      <td>Komatsu reports Q1 results</td>\n",
       "      <td>0.0000</td>\n",
       "      <td>neutral</td>\n",
       "    </tr>\n",
       "    <tr>\n",
       "      <th>3620</th>\n",
       "      <td>2020-01-20</td>\n",
       "      <td>Is Novartis AG (NVS) A Suitable Pick for Value Investors?</td>\n",
       "      <td>0.3400</td>\n",
       "      <td>positive</td>\n",
       "    </tr>\n",
       "    <tr>\n",
       "      <th>35742</th>\n",
       "      <td>2020-04-03</td>\n",
       "      <td>Consumer Products Industry Outlook: Prospects Look Favorable</td>\n",
       "      <td>0.6486</td>\n",
       "      <td>positive</td>\n",
       "    </tr>\n",
       "  </tbody>\n",
       "</table>\n",
       "</div>"
      ],
      "text/plain": [
       "            date  \\\n",
       "69492 2020-08-11   \n",
       "13511 2020-02-11   \n",
       "65503 2020-07-30   \n",
       "3620  2020-01-20   \n",
       "35742 2020-04-03   \n",
       "\n",
       "                                                                                     headline  \\\n",
       "69492   Berkshire Hathaway may buy PPL's U.K. electric utility unit, Seaport says in upgrade    \n",
       "13511                                          First Foundation Advisors Buys Salesforce. ...   \n",
       "65503                                                             Komatsu reports Q1 results    \n",
       "3620                                Is Novartis AG (NVS) A Suitable Pick for Value Investors?   \n",
       "35742                            Consumer Products Industry Outlook: Prospects Look Favorable   \n",
       "\n",
       "       vader_score vader_label  \n",
       "69492       0.0000     neutral  \n",
       "13511       0.0000     neutral  \n",
       "65503       0.0000     neutral  \n",
       "3620        0.3400    positive  \n",
       "35742       0.6486    positive  "
      ]
     },
     "execution_count": 232,
     "metadata": {},
     "output_type": "execute_result"
    }
   ],
   "source": [
    "def format_output(output_dict):\n",
    "  \n",
    "    polarity = \"neutral\"\n",
    "\n",
    "    if output_dict['compound']>= 0.025:\n",
    "        polarity = \"positive\"\n",
    "\n",
    "    elif output_dict['compound']<= -0.025:\n",
    "        polarity = \"negative\"\n",
    "\n",
    "    return polarity\n",
    "\n",
    "def predict_sentiment(text):\n",
    "  \n",
    "    output_dict =  vader.polarity_scores(text)\n",
    "    return format_output(output_dict)\n",
    "\n",
    "# Run the predictions\n",
    "data[\"vader_prediction\"] = data[\"headline\"].apply(predict_sentiment)\n",
    "\n",
    "data.rename(columns = {'compound':'vader_score'}, inplace = True)\n",
    "data.rename(columns = {'vader_prediction':'vader_label'}, inplace = True)\n",
    "\n",
    "# Show 5 random rows of the data\n",
    "data.sample(5)"
   ]
  },
  {
   "cell_type": "code",
   "execution_count": 233,
   "metadata": {},
   "outputs": [
    {
     "data": {
      "text/html": [
       "<div>\n",
       "<style scoped>\n",
       "    .dataframe tbody tr th:only-of-type {\n",
       "        vertical-align: middle;\n",
       "    }\n",
       "\n",
       "    .dataframe tbody tr th {\n",
       "        vertical-align: top;\n",
       "    }\n",
       "\n",
       "    .dataframe thead th {\n",
       "        text-align: right;\n",
       "    }\n",
       "</style>\n",
       "<table border=\"1\" class=\"dataframe\">\n",
       "  <thead>\n",
       "    <tr style=\"text-align: right;\">\n",
       "      <th></th>\n",
       "      <th>date</th>\n",
       "      <th>headline</th>\n",
       "      <th>vader_score</th>\n",
       "      <th>vader_label</th>\n",
       "    </tr>\n",
       "  </thead>\n",
       "  <tbody>\n",
       "    <tr>\n",
       "      <th>0</th>\n",
       "      <td>2020-01-01</td>\n",
       "      <td>2020 Predictions: No Rate Cuts, No Recession, Sell Apple, Buy Energy</td>\n",
       "      <td>-0.7430</td>\n",
       "      <td>negative</td>\n",
       "    </tr>\n",
       "    <tr>\n",
       "      <th>1</th>\n",
       "      <td>2020-01-01</td>\n",
       "      <td>3 Reasons Why Growth Investors Shouldn't Overlook Fair Isaac (FICO)</td>\n",
       "      <td>0.1625</td>\n",
       "      <td>positive</td>\n",
       "    </tr>\n",
       "    <tr>\n",
       "      <th>2</th>\n",
       "      <td>2020-01-01</td>\n",
       "      <td>3 Tech Giants That Could Benefit From The 5G Revolution In 2020</td>\n",
       "      <td>0.4588</td>\n",
       "      <td>positive</td>\n",
       "    </tr>\n",
       "    <tr>\n",
       "      <th>3</th>\n",
       "      <td>2020-01-01</td>\n",
       "      <td>ACA or CBPX: Which Is the Better Value Stock Right Now?</td>\n",
       "      <td>0.6486</td>\n",
       "      <td>positive</td>\n",
       "    </tr>\n",
       "    <tr>\n",
       "      <th>4</th>\n",
       "      <td>2020-01-01</td>\n",
       "      <td>All You Need to Know About Alexion (ALXN) Rating Upgrade to Strong Buy</td>\n",
       "      <td>0.5106</td>\n",
       "      <td>positive</td>\n",
       "    </tr>\n",
       "    <tr>\n",
       "      <th>...</th>\n",
       "      <td>...</td>\n",
       "      <td>...</td>\n",
       "      <td>...</td>\n",
       "      <td>...</td>\n",
       "    </tr>\n",
       "    <tr>\n",
       "      <th>73569</th>\n",
       "      <td>2020-08-28</td>\n",
       "      <td>Weyland Tech assumes the name of its subsidiary, Logiq, emerges strong for its customer data</td>\n",
       "      <td>0.5106</td>\n",
       "      <td>positive</td>\n",
       "    </tr>\n",
       "    <tr>\n",
       "      <th>73570</th>\n",
       "      <td>2020-08-28</td>\n",
       "      <td>Whipsaw action in gold resolves to the upside, with $2K again in sight</td>\n",
       "      <td>0.1779</td>\n",
       "      <td>positive</td>\n",
       "    </tr>\n",
       "    <tr>\n",
       "      <th>73571</th>\n",
       "      <td>2020-08-28</td>\n",
       "      <td>White House interviewing replacements for FTC head - Politico</td>\n",
       "      <td>0.0000</td>\n",
       "      <td>neutral</td>\n",
       "    </tr>\n",
       "    <tr>\n",
       "      <th>73572</th>\n",
       "      <td>2020-08-28</td>\n",
       "      <td>Workhorse drops on reported HorseFly drone flaws - Barron's</td>\n",
       "      <td>0.0000</td>\n",
       "      <td>neutral</td>\n",
       "    </tr>\n",
       "    <tr>\n",
       "      <th>73573</th>\n",
       "      <td>2020-08-28</td>\n",
       "      <td>Yiren Digital -6.5% on depressing Q2 numbers</td>\n",
       "      <td>-0.3818</td>\n",
       "      <td>negative</td>\n",
       "    </tr>\n",
       "  </tbody>\n",
       "</table>\n",
       "<p>73574 rows × 4 columns</p>\n",
       "</div>"
      ],
      "text/plain": [
       "            date  \\\n",
       "0     2020-01-01   \n",
       "1     2020-01-01   \n",
       "2     2020-01-01   \n",
       "3     2020-01-01   \n",
       "4     2020-01-01   \n",
       "...          ...   \n",
       "73569 2020-08-28   \n",
       "73570 2020-08-28   \n",
       "73571 2020-08-28   \n",
       "73572 2020-08-28   \n",
       "73573 2020-08-28   \n",
       "\n",
       "                                                                                             headline  \\\n",
       "0                                2020 Predictions: No Rate Cuts, No Recession, Sell Apple, Buy Energy   \n",
       "1                                 3 Reasons Why Growth Investors Shouldn't Overlook Fair Isaac (FICO)   \n",
       "2                                     3 Tech Giants That Could Benefit From The 5G Revolution In 2020   \n",
       "3                                             ACA or CBPX: Which Is the Better Value Stock Right Now?   \n",
       "4                              All You Need to Know About Alexion (ALXN) Rating Upgrade to Strong Buy   \n",
       "...                                                                                               ...   \n",
       "73569   Weyland Tech assumes the name of its subsidiary, Logiq, emerges strong for its customer data    \n",
       "73570                         Whipsaw action in gold resolves to the upside, with $2K again in sight    \n",
       "73571                                  White House interviewing replacements for FTC head - Politico    \n",
       "73572                                    Workhorse drops on reported HorseFly drone flaws - Barron's    \n",
       "73573                                                   Yiren Digital -6.5% on depressing Q2 numbers    \n",
       "\n",
       "       vader_score vader_label  \n",
       "0          -0.7430    negative  \n",
       "1           0.1625    positive  \n",
       "2           0.4588    positive  \n",
       "3           0.6486    positive  \n",
       "4           0.5106    positive  \n",
       "...            ...         ...  \n",
       "73569       0.5106    positive  \n",
       "73570       0.1779    positive  \n",
       "73571       0.0000     neutral  \n",
       "73572       0.0000     neutral  \n",
       "73573      -0.3818    negative  \n",
       "\n",
       "[73574 rows x 4 columns]"
      ]
     },
     "execution_count": 233,
     "metadata": {},
     "output_type": "execute_result"
    }
   ],
   "source": [
    "data"
   ]
  },
  {
   "cell_type": "code",
   "execution_count": 234,
   "metadata": {},
   "outputs": [
    {
     "data": {
      "text/plain": [
       "neutral     32886\n",
       "positive    29223\n",
       "negative    11465\n",
       "Name: vader_label, dtype: int64"
      ]
     },
     "execution_count": 234,
     "metadata": {},
     "output_type": "execute_result"
    }
   ],
   "source": [
    "data['vader_label'].value_counts()"
   ]
  },
  {
   "cell_type": "code",
   "execution_count": 235,
   "metadata": {},
   "outputs": [
    {
     "data": {
      "text/plain": [
       "neutral     0.446979\n",
       "positive    0.397192\n",
       "negative    0.155830\n",
       "Name: vader_label, dtype: float64"
      ]
     },
     "execution_count": 235,
     "metadata": {},
     "output_type": "execute_result"
    }
   ],
   "source": [
    "data['vader_label'].value_counts(normalize=True) #MUCH BETTER RESULTS THAN WITH PREVIOUS (NOT CLEANED) DATA"
   ]
  },
  {
   "cell_type": "code",
   "execution_count": 63,
   "metadata": {},
   "outputs": [
    {
     "data": {
      "text/html": [
       "<div>\n",
       "<style scoped>\n",
       "    .dataframe tbody tr th:only-of-type {\n",
       "        vertical-align: middle;\n",
       "    }\n",
       "\n",
       "    .dataframe tbody tr th {\n",
       "        vertical-align: top;\n",
       "    }\n",
       "\n",
       "    .dataframe thead th {\n",
       "        text-align: right;\n",
       "    }\n",
       "</style>\n",
       "<table border=\"1\" class=\"dataframe\">\n",
       "  <thead>\n",
       "    <tr style=\"text-align: right;\">\n",
       "      <th></th>\n",
       "      <th>date</th>\n",
       "      <th>headline</th>\n",
       "      <th>finbert_score</th>\n",
       "      <th>finbert_label</th>\n",
       "      <th>vader_score</th>\n",
       "      <th>vader_label</th>\n",
       "    </tr>\n",
       "  </thead>\n",
       "  <tbody>\n",
       "    <tr>\n",
       "      <th>0</th>\n",
       "      <td>2020-06-01</td>\n",
       "      <td>Agilent Technologies Announces Pricing of $5…… Million of Senior Notes</td>\n",
       "      <td>0.999977</td>\n",
       "      <td>neutral</td>\n",
       "      <td>0.0000</td>\n",
       "      <td>neutral</td>\n",
       "    </tr>\n",
       "    <tr>\n",
       "      <th>1</th>\n",
       "      <td>2020-05-18</td>\n",
       "      <td>Agilent (A) Gears Up for Q2 Earnings: What's in the Cards?</td>\n",
       "      <td>0.999296</td>\n",
       "      <td>neutral</td>\n",
       "      <td>0.0000</td>\n",
       "      <td>neutral</td>\n",
       "    </tr>\n",
       "    <tr>\n",
       "      <th>2</th>\n",
       "      <td>2020-05-15</td>\n",
       "      <td>J.P. Morgan Asset Management Announces Liquidation of Six Exchange-Traded Funds</td>\n",
       "      <td>0.999535</td>\n",
       "      <td>neutral</td>\n",
       "      <td>0.3612</td>\n",
       "      <td>positive</td>\n",
       "    </tr>\n",
       "    <tr>\n",
       "      <th>3</th>\n",
       "      <td>2020-05-15</td>\n",
       "      <td>Pershing Square Capital Management, L.P. Buys Agilent Technologies Inc, The Howard Hughes Corp, ...</td>\n",
       "      <td>0.999965</td>\n",
       "      <td>neutral</td>\n",
       "      <td>0.0000</td>\n",
       "      <td>neutral</td>\n",
       "    </tr>\n",
       "    <tr>\n",
       "      <th>4</th>\n",
       "      <td>2020-05-12</td>\n",
       "      <td>Agilent Awards Trilogy Sciences with a Golden Ticket at LabCentral</td>\n",
       "      <td>0.971711</td>\n",
       "      <td>positive</td>\n",
       "      <td>0.4588</td>\n",
       "      <td>positive</td>\n",
       "    </tr>\n",
       "    <tr>\n",
       "      <th>...</th>\n",
       "      <td>...</td>\n",
       "      <td>...</td>\n",
       "      <td>...</td>\n",
       "      <td>...</td>\n",
       "      <td>...</td>\n",
       "      <td>...</td>\n",
       "    </tr>\n",
       "    <tr>\n",
       "      <th>110426</th>\n",
       "      <td>2020-07-09</td>\n",
       "      <td>ChemoCentryx files U.S. avacopan application for blood vessel inflammation</td>\n",
       "      <td>0.999981</td>\n",
       "      <td>neutral</td>\n",
       "      <td>0.0000</td>\n",
       "      <td>neutral</td>\n",
       "    </tr>\n",
       "    <tr>\n",
       "      <th>110427</th>\n",
       "      <td>2020-07-09</td>\n",
       "      <td>KLA downgraded as valuation limits upside potential</td>\n",
       "      <td>0.999952</td>\n",
       "      <td>negative</td>\n",
       "      <td>0.0000</td>\n",
       "      <td>neutral</td>\n",
       "    </tr>\n",
       "    <tr>\n",
       "      <th>110428</th>\n",
       "      <td>2020-07-09</td>\n",
       "      <td>ChromaDex reports promising anti-viral effects of Niagen in coronavirus cell model</td>\n",
       "      <td>0.992494</td>\n",
       "      <td>positive</td>\n",
       "      <td>0.4019</td>\n",
       "      <td>positive</td>\n",
       "    </tr>\n",
       "    <tr>\n",
       "      <th>110429</th>\n",
       "      <td>2020-07-09</td>\n",
       "      <td>Sandvik acquires remaining stake in Allied Construction</td>\n",
       "      <td>0.999046</td>\n",
       "      <td>neutral</td>\n",
       "      <td>0.0000</td>\n",
       "      <td>neutral</td>\n",
       "    </tr>\n",
       "    <tr>\n",
       "      <th>110430</th>\n",
       "      <td>2020-07-09</td>\n",
       "      <td>Osisko Gold reports preliminary Q2 revenues below consensus</td>\n",
       "      <td>0.999999</td>\n",
       "      <td>negative</td>\n",
       "      <td>0.0000</td>\n",
       "      <td>neutral</td>\n",
       "    </tr>\n",
       "  </tbody>\n",
       "</table>\n",
       "<p>110431 rows × 6 columns</p>\n",
       "</div>"
      ],
      "text/plain": [
       "              date  \\\n",
       "0       2020-06-01   \n",
       "1       2020-05-18   \n",
       "2       2020-05-15   \n",
       "3       2020-05-15   \n",
       "4       2020-05-12   \n",
       "...            ...   \n",
       "110426  2020-07-09   \n",
       "110427  2020-07-09   \n",
       "110428  2020-07-09   \n",
       "110429  2020-07-09   \n",
       "110430  2020-07-09   \n",
       "\n",
       "                                                                                                   headline  \\\n",
       "0                                    Agilent Technologies Announces Pricing of $5…… Million of Senior Notes   \n",
       "1                                                Agilent (A) Gears Up for Q2 Earnings: What's in the Cards?   \n",
       "2                           J.P. Morgan Asset Management Announces Liquidation of Six Exchange-Traded Funds   \n",
       "3       Pershing Square Capital Management, L.P. Buys Agilent Technologies Inc, The Howard Hughes Corp, ...   \n",
       "4                                        Agilent Awards Trilogy Sciences with a Golden Ticket at LabCentral   \n",
       "...                                                                                                     ...   \n",
       "110426                          ChemoCentryx files U.S. avacopan application for blood vessel inflammation    \n",
       "110427                                                 KLA downgraded as valuation limits upside potential    \n",
       "110428                  ChromaDex reports promising anti-viral effects of Niagen in coronavirus cell model    \n",
       "110429                                             Sandvik acquires remaining stake in Allied Construction    \n",
       "110430                                         Osisko Gold reports preliminary Q2 revenues below consensus    \n",
       "\n",
       "        finbert_score finbert_label  vader_score vader_label  \n",
       "0            0.999977       neutral       0.0000     neutral  \n",
       "1            0.999296       neutral       0.0000     neutral  \n",
       "2            0.999535       neutral       0.3612    positive  \n",
       "3            0.999965       neutral       0.0000     neutral  \n",
       "4            0.971711      positive       0.4588    positive  \n",
       "...               ...           ...          ...         ...  \n",
       "110426       0.999981       neutral       0.0000     neutral  \n",
       "110427       0.999952      negative       0.0000     neutral  \n",
       "110428       0.992494      positive       0.4019    positive  \n",
       "110429       0.999046       neutral       0.0000     neutral  \n",
       "110430       0.999999      negative       0.0000     neutral  \n",
       "\n",
       "[110431 rows x 6 columns]"
      ]
     },
     "execution_count": 63,
     "metadata": {},
     "output_type": "execute_result"
    }
   ],
   "source": [
    "data"
   ]
  },
  {
   "cell_type": "code",
   "execution_count": 236,
   "metadata": {},
   "outputs": [],
   "source": [
    "data.to_csv('sentiment_analysis_results/news_vader_senti_after_cl.csv', index=False, encoding='utf-8-sig')"
   ]
  }
 ],
 "metadata": {
  "kernelspec": {
   "display_name": "Python 3",
   "language": "python",
   "name": "python3"
  },
  "language_info": {
   "codemirror_mode": {
    "name": "ipython",
    "version": 3
   },
   "file_extension": ".py",
   "mimetype": "text/x-python",
   "name": "python",
   "nbconvert_exporter": "python",
   "pygments_lexer": "ipython3",
   "version": "3.7.4"
  }
 },
 "nbformat": 4,
 "nbformat_minor": 4
}
