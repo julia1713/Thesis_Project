{
 "cells": [
  {
   "cell_type": "markdown",
   "metadata": {},
   "source": [
    "### APPLICATION OF VADER SENTIMENT ANALYZER  TO TWEETS DATASET"
   ]
  },
  {
   "cell_type": "code",
   "execution_count": 271,
   "metadata": {},
   "outputs": [
    {
     "name": "stderr",
     "output_type": "stream",
     "text": [
      "[nltk_data] Downloading package vader_lexicon to\n",
      "[nltk_data]     C:\\Users\\Giulia\\AppData\\Roaming\\nltk_data...\n",
      "[nltk_data]   Package vader_lexicon is already up-to-date!\n"
     ]
    }
   ],
   "source": [
    "import pandas as pd\n",
    "import matplotlib.pyplot as plt #plot the sentiment on a chart\n",
    "import nltk \n",
    "nltk.download('vader_lexicon')\n",
    "from nltk.sentiment.vader import SentimentIntensityAnalyzer #perform sentiment analysis \n",
    "import matplotlib.pyplot as plt\n",
    "pd.set_option('display.max_colwidth',None)"
   ]
  },
  {
   "cell_type": "code",
   "execution_count": 183,
   "metadata": {},
   "outputs": [
    {
     "data": {
      "text/html": [
       "<div>\n",
       "<style scoped>\n",
       "    .dataframe tbody tr th:only-of-type {\n",
       "        vertical-align: middle;\n",
       "    }\n",
       "\n",
       "    .dataframe tbody tr th {\n",
       "        vertical-align: top;\n",
       "    }\n",
       "\n",
       "    .dataframe thead th {\n",
       "        text-align: right;\n",
       "    }\n",
       "</style>\n",
       "<table border=\"1\" class=\"dataframe\">\n",
       "  <thead>\n",
       "    <tr style=\"text-align: right;\">\n",
       "      <th></th>\n",
       "      <th>date</th>\n",
       "      <th>username</th>\n",
       "      <th>text</th>\n",
       "    </tr>\n",
       "  </thead>\n",
       "  <tbody>\n",
       "    <tr>\n",
       "      <th>0</th>\n",
       "      <td>2020-01-01</td>\n",
       "      <td>kent_aight</td>\n",
       "      <td>wish #you and your #family all a very \"happy and prosperous\" #newyear2020 #spx500 #spx #binaryoptions #nadex #es_f #stockmarket #trader #optionstrading #options</td>\n",
       "    </tr>\n",
       "    <tr>\n",
       "      <th>1</th>\n",
       "      <td>2020-01-01</td>\n",
       "      <td>Intellect_us</td>\n",
       "      <td>while clearly overbought short term, there are some powerful dynamics approaching that could drive stocks $spx #spx #stocks</td>\n",
       "    </tr>\n",
       "    <tr>\n",
       "      <th>2</th>\n",
       "      <td>2020-01-01</td>\n",
       "      <td>Billions777888</td>\n",
       "      <td>where is a good acting guy ???? #sp500 #stockmarket</td>\n",
       "    </tr>\n",
       "    <tr>\n",
       "      <th>3</th>\n",
       "      <td>2020-01-01</td>\n",
       "      <td>cyberalgo</td>\n",
       "      <td>way to ring it in bruh, #facts hny! #spx</td>\n",
       "    </tr>\n",
       "    <tr>\n",
       "      <th>4</th>\n",
       "      <td>2020-01-01</td>\n",
       "      <td>BindalFX</td>\n",
       "      <td>use the time when nothing is happening in the markets wisely    #trading #forex #fx #spx #spy #djia #gbpusd #tradingpsychology #daytrading</td>\n",
       "    </tr>\n",
       "    <tr>\n",
       "      <th>...</th>\n",
       "      <td>...</td>\n",
       "      <td>...</td>\n",
       "      <td>...</td>\n",
       "    </tr>\n",
       "    <tr>\n",
       "      <th>68858</th>\n",
       "      <td>2020-07-03</td>\n",
       "      <td>elliottwaves</td>\n",
       "      <td>#atm #vol #sp500 #nq #djia front month august 28,cme es cme sp cme nq cbt ym</td>\n",
       "    </tr>\n",
       "    <tr>\n",
       "      <th>68859</th>\n",
       "      <td>2020-07-03</td>\n",
       "      <td>JacobsLadders</td>\n",
       "      <td>\"the bond market reflation bets that have proven popular in the recovery from the march market cataclysm now face tougher odds\"</td>\n",
       "    </tr>\n",
       "    <tr>\n",
       "      <th>68860</th>\n",
       "      <td>2020-07-03</td>\n",
       "      <td>TradingFearless</td>\n",
       "      <td>callum thomas says that #spx is in bubble terriotory based on put/call #option ratio, but institutional investors are pessemistic and #darkpool buy activity dropped</td>\n",
       "    </tr>\n",
       "    <tr>\n",
       "      <th>68861</th>\n",
       "      <td>2020-07-03</td>\n",
       "      <td>CM_Burns</td>\n",
       "      <td>your weekly market recap  #dataviz #sp500</td>\n",
       "    </tr>\n",
       "    <tr>\n",
       "      <th>68862</th>\n",
       "      <td>2020-07-03</td>\n",
       "      <td>Finscreener_com</td>\n",
       "      <td>you don’t have to know what will happen in the market and how it would behave and you shouldn’t care, you should be reacting on what is happening in the market  don’t predict, react  #nasdaq #spx500 #djia</td>\n",
       "    </tr>\n",
       "  </tbody>\n",
       "</table>\n",
       "<p>68863 rows × 3 columns</p>\n",
       "</div>"
      ],
      "text/plain": [
       "             date         username  \\\n",
       "0      2020-01-01       kent_aight   \n",
       "1      2020-01-01     Intellect_us   \n",
       "2      2020-01-01   Billions777888   \n",
       "3      2020-01-01        cyberalgo   \n",
       "4      2020-01-01         BindalFX   \n",
       "...           ...              ...   \n",
       "68858  2020-07-03     elliottwaves   \n",
       "68859  2020-07-03    JacobsLadders   \n",
       "68860  2020-07-03  TradingFearless   \n",
       "68861  2020-07-03         CM_Burns   \n",
       "68862  2020-07-03  Finscreener_com   \n",
       "\n",
       "                                                                                                                                                                                                               text  \n",
       "0                                                 wish #you and your #family all a very \"happy and prosperous\" #newyear2020 #spx500 #spx #binaryoptions #nadex #es_f #stockmarket #trader #optionstrading #options   \n",
       "1                                                                                      while clearly overbought short term, there are some powerful dynamics approaching that could drive stocks $spx #spx #stocks   \n",
       "2                                                                                                                                                               where is a good acting guy ???? #sp500 #stockmarket  \n",
       "3                                                                                                                                                                          way to ring it in bruh, #facts hny! #spx  \n",
       "4                                                                       use the time when nothing is happening in the markets wisely    #trading #forex #fx #spx #spy #djia #gbpusd #tradingpsychology #daytrading   \n",
       "...                                                                                                                                                                                                             ...  \n",
       "68858                                                                                                                                 #atm #vol #sp500 #nq #djia front month august 28,cme es cme sp cme nq cbt ym   \n",
       "68859                                                                              \"the bond market reflation bets that have proven popular in the recovery from the march market cataclysm now face tougher odds\"   \n",
       "68860                                        callum thomas says that #spx is in bubble terriotory based on put/call #option ratio, but institutional investors are pessemistic and #darkpool buy activity dropped    \n",
       "68861                                                                                                                                                                    your weekly market recap  #dataviz #sp500   \n",
       "68862  you don’t have to know what will happen in the market and how it would behave and you shouldn’t care, you should be reacting on what is happening in the market  don’t predict, react  #nasdaq #spx500 #djia  \n",
       "\n",
       "[68863 rows x 3 columns]"
      ]
     },
     "execution_count": 183,
     "metadata": {},
     "output_type": "execute_result"
    }
   ],
   "source": [
    "data=pd.read_csv('TUTTI_TWEETS_clean.csv', index_col=False, sep=\";\")\n",
    "data"
   ]
  },
  {
   "cell_type": "code",
   "execution_count": 188,
   "metadata": {},
   "outputs": [
    {
     "data": {
      "text/plain": [
       "pandas._libs.tslibs.timestamps.Timestamp"
      ]
     },
     "execution_count": 188,
     "metadata": {},
     "output_type": "execute_result"
    }
   ],
   "source": [
    "type(data['date'][0])"
   ]
  },
  {
   "cell_type": "code",
   "execution_count": 187,
   "metadata": {},
   "outputs": [
    {
     "data": {
      "text/html": [
       "<div>\n",
       "<style scoped>\n",
       "    .dataframe tbody tr th:only-of-type {\n",
       "        vertical-align: middle;\n",
       "    }\n",
       "\n",
       "    .dataframe tbody tr th {\n",
       "        vertical-align: top;\n",
       "    }\n",
       "\n",
       "    .dataframe thead th {\n",
       "        text-align: right;\n",
       "    }\n",
       "</style>\n",
       "<table border=\"1\" class=\"dataframe\">\n",
       "  <thead>\n",
       "    <tr style=\"text-align: right;\">\n",
       "      <th></th>\n",
       "      <th>date</th>\n",
       "      <th>username</th>\n",
       "      <th>text</th>\n",
       "      <th>d1</th>\n",
       "    </tr>\n",
       "  </thead>\n",
       "  <tbody>\n",
       "    <tr>\n",
       "      <th>0</th>\n",
       "      <td>2020-01-01</td>\n",
       "      <td>kent_aight</td>\n",
       "      <td>wish #you and your #family all a very \"happy and prosperous\" #newyear2020 #spx500 #spx #binaryoptions #nadex #es_f #stockmarket #trader #optionstrading #options</td>\n",
       "      <td>2020-01-01</td>\n",
       "    </tr>\n",
       "    <tr>\n",
       "      <th>1</th>\n",
       "      <td>2020-01-01</td>\n",
       "      <td>Intellect_us</td>\n",
       "      <td>while clearly overbought short term, there are some powerful dynamics approaching that could drive stocks $spx #spx #stocks</td>\n",
       "      <td>2020-01-01</td>\n",
       "    </tr>\n",
       "    <tr>\n",
       "      <th>2</th>\n",
       "      <td>2020-01-01</td>\n",
       "      <td>Billions777888</td>\n",
       "      <td>where is a good acting guy ???? #sp500 #stockmarket</td>\n",
       "      <td>2020-01-01</td>\n",
       "    </tr>\n",
       "    <tr>\n",
       "      <th>3</th>\n",
       "      <td>2020-01-01</td>\n",
       "      <td>cyberalgo</td>\n",
       "      <td>way to ring it in bruh, #facts hny! #spx</td>\n",
       "      <td>2020-01-01</td>\n",
       "    </tr>\n",
       "    <tr>\n",
       "      <th>4</th>\n",
       "      <td>2020-01-01</td>\n",
       "      <td>BindalFX</td>\n",
       "      <td>use the time when nothing is happening in the markets wisely    #trading #forex #fx #spx #spy #djia #gbpusd #tradingpsychology #daytrading</td>\n",
       "      <td>2020-01-01</td>\n",
       "    </tr>\n",
       "    <tr>\n",
       "      <th>...</th>\n",
       "      <td>...</td>\n",
       "      <td>...</td>\n",
       "      <td>...</td>\n",
       "      <td>...</td>\n",
       "    </tr>\n",
       "    <tr>\n",
       "      <th>68858</th>\n",
       "      <td>2020-07-03</td>\n",
       "      <td>elliottwaves</td>\n",
       "      <td>#atm #vol #sp500 #nq #djia front month august 28,cme es cme sp cme nq cbt ym</td>\n",
       "      <td>2020-07-03</td>\n",
       "    </tr>\n",
       "    <tr>\n",
       "      <th>68859</th>\n",
       "      <td>2020-07-03</td>\n",
       "      <td>JacobsLadders</td>\n",
       "      <td>\"the bond market reflation bets that have proven popular in the recovery from the march market cataclysm now face tougher odds\"</td>\n",
       "      <td>2020-07-03</td>\n",
       "    </tr>\n",
       "    <tr>\n",
       "      <th>68860</th>\n",
       "      <td>2020-07-03</td>\n",
       "      <td>TradingFearless</td>\n",
       "      <td>callum thomas says that #spx is in bubble terriotory based on put/call #option ratio, but institutional investors are pessemistic and #darkpool buy activity dropped</td>\n",
       "      <td>2020-07-03</td>\n",
       "    </tr>\n",
       "    <tr>\n",
       "      <th>68861</th>\n",
       "      <td>2020-07-03</td>\n",
       "      <td>CM_Burns</td>\n",
       "      <td>your weekly market recap  #dataviz #sp500</td>\n",
       "      <td>2020-07-03</td>\n",
       "    </tr>\n",
       "    <tr>\n",
       "      <th>68862</th>\n",
       "      <td>2020-07-03</td>\n",
       "      <td>Finscreener_com</td>\n",
       "      <td>you don’t have to know what will happen in the market and how it would behave and you shouldn’t care, you should be reacting on what is happening in the market  don’t predict, react  #nasdaq #spx500 #djia</td>\n",
       "      <td>2020-07-03</td>\n",
       "    </tr>\n",
       "  </tbody>\n",
       "</table>\n",
       "<p>68863 rows × 4 columns</p>\n",
       "</div>"
      ],
      "text/plain": [
       "            date         username  \\\n",
       "0     2020-01-01       kent_aight   \n",
       "1     2020-01-01     Intellect_us   \n",
       "2     2020-01-01   Billions777888   \n",
       "3     2020-01-01        cyberalgo   \n",
       "4     2020-01-01         BindalFX   \n",
       "...          ...              ...   \n",
       "68858 2020-07-03     elliottwaves   \n",
       "68859 2020-07-03    JacobsLadders   \n",
       "68860 2020-07-03  TradingFearless   \n",
       "68861 2020-07-03         CM_Burns   \n",
       "68862 2020-07-03  Finscreener_com   \n",
       "\n",
       "                                                                                                                                                                                                               text  \\\n",
       "0                                                 wish #you and your #family all a very \"happy and prosperous\" #newyear2020 #spx500 #spx #binaryoptions #nadex #es_f #stockmarket #trader #optionstrading #options    \n",
       "1                                                                                      while clearly overbought short term, there are some powerful dynamics approaching that could drive stocks $spx #spx #stocks    \n",
       "2                                                                                                                                                               where is a good acting guy ???? #sp500 #stockmarket   \n",
       "3                                                                                                                                                                          way to ring it in bruh, #facts hny! #spx   \n",
       "4                                                                       use the time when nothing is happening in the markets wisely    #trading #forex #fx #spx #spy #djia #gbpusd #tradingpsychology #daytrading    \n",
       "...                                                                                                                                                                                                             ...   \n",
       "68858                                                                                                                                 #atm #vol #sp500 #nq #djia front month august 28,cme es cme sp cme nq cbt ym    \n",
       "68859                                                                              \"the bond market reflation bets that have proven popular in the recovery from the march market cataclysm now face tougher odds\"    \n",
       "68860                                        callum thomas says that #spx is in bubble terriotory based on put/call #option ratio, but institutional investors are pessemistic and #darkpool buy activity dropped     \n",
       "68861                                                                                                                                                                    your weekly market recap  #dataviz #sp500    \n",
       "68862  you don’t have to know what will happen in the market and how it would behave and you shouldn’t care, you should be reacting on what is happening in the market  don’t predict, react  #nasdaq #spx500 #djia   \n",
       "\n",
       "              d1  \n",
       "0     2020-01-01  \n",
       "1     2020-01-01  \n",
       "2     2020-01-01  \n",
       "3     2020-01-01  \n",
       "4     2020-01-01  \n",
       "...          ...  \n",
       "68858 2020-07-03  \n",
       "68859 2020-07-03  \n",
       "68860 2020-07-03  \n",
       "68861 2020-07-03  \n",
       "68862 2020-07-03  \n",
       "\n",
       "[68863 rows x 4 columns]"
      ]
     },
     "execution_count": 187,
     "metadata": {},
     "output_type": "execute_result"
    }
   ],
   "source": [
    "data['date'] = pd.to_datetime(data['date'])\n",
    "data"
   ]
  },
  {
   "cell_type": "markdown",
   "metadata": {},
   "source": [
    "APPLICATION OF VADER"
   ]
  },
  {
   "cell_type": "code",
   "execution_count": 193,
   "metadata": {
    "scrolled": true
   },
   "outputs": [
    {
     "data": {
      "text/html": [
       "<div>\n",
       "<style scoped>\n",
       "    .dataframe tbody tr th:only-of-type {\n",
       "        vertical-align: middle;\n",
       "    }\n",
       "\n",
       "    .dataframe tbody tr th {\n",
       "        vertical-align: top;\n",
       "    }\n",
       "\n",
       "    .dataframe thead th {\n",
       "        text-align: right;\n",
       "    }\n",
       "</style>\n",
       "<table border=\"1\" class=\"dataframe\">\n",
       "  <thead>\n",
       "    <tr style=\"text-align: right;\">\n",
       "      <th></th>\n",
       "      <th>date</th>\n",
       "      <th>text</th>\n",
       "      <th>compound</th>\n",
       "    </tr>\n",
       "  </thead>\n",
       "  <tbody>\n",
       "    <tr>\n",
       "      <th>0</th>\n",
       "      <td>2020-01-01</td>\n",
       "      <td>wish #you and your #family all a very \"happy and prosperous\" #newyear2020 #spx500 #spx #binaryoptions #nadex #es_f #stockmarket #trader #optionstrading #options</td>\n",
       "      <td>0.8766</td>\n",
       "    </tr>\n",
       "    <tr>\n",
       "      <th>1</th>\n",
       "      <td>2020-01-01</td>\n",
       "      <td>while clearly overbought short term, there are some powerful dynamics approaching that could drive stocks $spx #spx #stocks</td>\n",
       "      <td>0.7650</td>\n",
       "    </tr>\n",
       "    <tr>\n",
       "      <th>2</th>\n",
       "      <td>2020-01-01</td>\n",
       "      <td>where is a good acting guy ???? #sp500 #stockmarket</td>\n",
       "      <td>0.5940</td>\n",
       "    </tr>\n",
       "    <tr>\n",
       "      <th>3</th>\n",
       "      <td>2020-01-01</td>\n",
       "      <td>way to ring it in bruh, #facts hny! #spx</td>\n",
       "      <td>0.0000</td>\n",
       "    </tr>\n",
       "    <tr>\n",
       "      <th>4</th>\n",
       "      <td>2020-01-01</td>\n",
       "      <td>use the time when nothing is happening in the markets wisely    #trading #forex #fx #spx #spy #djia #gbpusd #tradingpsychology #daytrading</td>\n",
       "      <td>0.4215</td>\n",
       "    </tr>\n",
       "    <tr>\n",
       "      <th>...</th>\n",
       "      <td>...</td>\n",
       "      <td>...</td>\n",
       "      <td>...</td>\n",
       "    </tr>\n",
       "    <tr>\n",
       "      <th>68858</th>\n",
       "      <td>2020-07-03</td>\n",
       "      <td>#atm #vol #sp500 #nq #djia front month august 28,cme es cme sp cme nq cbt ym</td>\n",
       "      <td>0.0000</td>\n",
       "    </tr>\n",
       "    <tr>\n",
       "      <th>68859</th>\n",
       "      <td>2020-07-03</td>\n",
       "      <td>\"the bond market reflation bets that have proven popular in the recovery from the march market cataclysm now face tougher odds\"</td>\n",
       "      <td>0.5423</td>\n",
       "    </tr>\n",
       "    <tr>\n",
       "      <th>68860</th>\n",
       "      <td>2020-07-03</td>\n",
       "      <td>callum thomas says that #spx is in bubble terriotory based on put/call #option ratio, but institutional investors are pessemistic and #darkpool buy activity dropped</td>\n",
       "      <td>0.0000</td>\n",
       "    </tr>\n",
       "    <tr>\n",
       "      <th>68861</th>\n",
       "      <td>2020-07-03</td>\n",
       "      <td>your weekly market recap  #dataviz #sp500</td>\n",
       "      <td>0.0000</td>\n",
       "    </tr>\n",
       "    <tr>\n",
       "      <th>68862</th>\n",
       "      <td>2020-07-03</td>\n",
       "      <td>you don’t have to know what will happen in the market and how it would behave and you shouldn’t care, you should be reacting on what is happening in the market  don’t predict, react  #nasdaq #spx500 #djia</td>\n",
       "      <td>0.4939</td>\n",
       "    </tr>\n",
       "  </tbody>\n",
       "</table>\n",
       "<p>68863 rows × 3 columns</p>\n",
       "</div>"
      ],
      "text/plain": [
       "            date  \\\n",
       "0     2020-01-01   \n",
       "1     2020-01-01   \n",
       "2     2020-01-01   \n",
       "3     2020-01-01   \n",
       "4     2020-01-01   \n",
       "...          ...   \n",
       "68858 2020-07-03   \n",
       "68859 2020-07-03   \n",
       "68860 2020-07-03   \n",
       "68861 2020-07-03   \n",
       "68862 2020-07-03   \n",
       "\n",
       "                                                                                                                                                                                                               text  \\\n",
       "0                                                 wish #you and your #family all a very \"happy and prosperous\" #newyear2020 #spx500 #spx #binaryoptions #nadex #es_f #stockmarket #trader #optionstrading #options    \n",
       "1                                                                                      while clearly overbought short term, there are some powerful dynamics approaching that could drive stocks $spx #spx #stocks    \n",
       "2                                                                                                                                                               where is a good acting guy ???? #sp500 #stockmarket   \n",
       "3                                                                                                                                                                          way to ring it in bruh, #facts hny! #spx   \n",
       "4                                                                       use the time when nothing is happening in the markets wisely    #trading #forex #fx #spx #spy #djia #gbpusd #tradingpsychology #daytrading    \n",
       "...                                                                                                                                                                                                             ...   \n",
       "68858                                                                                                                                 #atm #vol #sp500 #nq #djia front month august 28,cme es cme sp cme nq cbt ym    \n",
       "68859                                                                              \"the bond market reflation bets that have proven popular in the recovery from the march market cataclysm now face tougher odds\"    \n",
       "68860                                        callum thomas says that #spx is in bubble terriotory based on put/call #option ratio, but institutional investors are pessemistic and #darkpool buy activity dropped     \n",
       "68861                                                                                                                                                                    your weekly market recap  #dataviz #sp500    \n",
       "68862  you don’t have to know what will happen in the market and how it would behave and you shouldn’t care, you should be reacting on what is happening in the market  don’t predict, react  #nasdaq #spx500 #djia   \n",
       "\n",
       "       compound  \n",
       "0        0.8766  \n",
       "1        0.7650  \n",
       "2        0.5940  \n",
       "3        0.0000  \n",
       "4        0.4215  \n",
       "...         ...  \n",
       "68858    0.0000  \n",
       "68859    0.5423  \n",
       "68860    0.0000  \n",
       "68861    0.0000  \n",
       "68862    0.4939  \n",
       "\n",
       "[68863 rows x 3 columns]"
      ]
     },
     "execution_count": 193,
     "metadata": {},
     "output_type": "execute_result"
    }
   ],
   "source": [
    "vader = SentimentIntensityAnalyzer() \n",
    "\n",
    "#compound: The normalized compound score which calculates the sum of all lexicon ratings and takes values from -1 to 1\n",
    "\n",
    "# Iterate through the headlines and get the polarity scores using vader\n",
    "f = lambda title: vader.polarity_scores(title)['compound']\n",
    "data['compound'] = data['text'].apply(f)\n",
    "\n",
    "data"
   ]
  },
  {
   "cell_type": "code",
   "execution_count": 195,
   "metadata": {},
   "outputs": [
    {
     "data": {
      "text/plain": [
       "0        1\n",
       "1        1\n",
       "2        1\n",
       "3        1\n",
       "4        1\n",
       "        ..\n",
       "68858    7\n",
       "68859    7\n",
       "68860    7\n",
       "68861    7\n",
       "68862    7\n",
       "Name: date, Length: 68863, dtype: int64"
      ]
     },
     "execution_count": 195,
     "metadata": {},
     "output_type": "execute_result"
    }
   ],
   "source": [
    "data.date.dt.month #OK, I HAVE DATA TILL JULY"
   ]
  },
  {
   "cell_type": "markdown",
   "metadata": {},
   "source": [
    "COMPUTE AVG OF COMPOUND SCORE FOR EACH DAY"
   ]
  },
  {
   "cell_type": "code",
   "execution_count": 250,
   "metadata": {},
   "outputs": [],
   "source": [
    "mean_df = data.groupby(\"date\").mean()"
   ]
  },
  {
   "cell_type": "code",
   "execution_count": 251,
   "metadata": {},
   "outputs": [
    {
     "data": {
      "text/html": [
       "<div>\n",
       "<style scoped>\n",
       "    .dataframe tbody tr th:only-of-type {\n",
       "        vertical-align: middle;\n",
       "    }\n",
       "\n",
       "    .dataframe tbody tr th {\n",
       "        vertical-align: top;\n",
       "    }\n",
       "\n",
       "    .dataframe thead th {\n",
       "        text-align: right;\n",
       "    }\n",
       "</style>\n",
       "<table border=\"1\" class=\"dataframe\">\n",
       "  <thead>\n",
       "    <tr style=\"text-align: right;\">\n",
       "      <th></th>\n",
       "      <th>vader_score</th>\n",
       "    </tr>\n",
       "    <tr>\n",
       "      <th>date</th>\n",
       "      <th></th>\n",
       "    </tr>\n",
       "  </thead>\n",
       "  <tbody>\n",
       "    <tr>\n",
       "      <th>2020-01-01</th>\n",
       "      <td>0.164063</td>\n",
       "    </tr>\n",
       "    <tr>\n",
       "      <th>2020-01-02</th>\n",
       "      <td>0.121434</td>\n",
       "    </tr>\n",
       "    <tr>\n",
       "      <th>2020-01-03</th>\n",
       "      <td>0.007988</td>\n",
       "    </tr>\n",
       "    <tr>\n",
       "      <th>2020-01-04</th>\n",
       "      <td>0.018787</td>\n",
       "    </tr>\n",
       "    <tr>\n",
       "      <th>2020-01-05</th>\n",
       "      <td>0.107574</td>\n",
       "    </tr>\n",
       "    <tr>\n",
       "      <th>...</th>\n",
       "      <td>...</td>\n",
       "    </tr>\n",
       "    <tr>\n",
       "      <th>2020-06-28</th>\n",
       "      <td>0.065130</td>\n",
       "    </tr>\n",
       "    <tr>\n",
       "      <th>2020-06-29</th>\n",
       "      <td>0.082066</td>\n",
       "    </tr>\n",
       "    <tr>\n",
       "      <th>2020-07-01</th>\n",
       "      <td>0.116194</td>\n",
       "    </tr>\n",
       "    <tr>\n",
       "      <th>2020-07-02</th>\n",
       "      <td>0.122132</td>\n",
       "    </tr>\n",
       "    <tr>\n",
       "      <th>2020-07-03</th>\n",
       "      <td>0.150255</td>\n",
       "    </tr>\n",
       "  </tbody>\n",
       "</table>\n",
       "<p>180 rows × 1 columns</p>\n",
       "</div>"
      ],
      "text/plain": [
       "            vader_score\n",
       "date                   \n",
       "2020-01-01     0.164063\n",
       "2020-01-02     0.121434\n",
       "2020-01-03     0.007988\n",
       "2020-01-04     0.018787\n",
       "2020-01-05     0.107574\n",
       "...                 ...\n",
       "2020-06-28     0.065130\n",
       "2020-06-29     0.082066\n",
       "2020-07-01     0.116194\n",
       "2020-07-02     0.122132\n",
       "2020-07-03     0.150255\n",
       "\n",
       "[180 rows x 1 columns]"
      ]
     },
     "execution_count": 251,
     "metadata": {},
     "output_type": "execute_result"
    }
   ],
   "source": [
    "mean_df"
   ]
  },
  {
   "cell_type": "code",
   "execution_count": 198,
   "metadata": {},
   "outputs": [
    {
     "data": {
      "text/html": [
       "<div>\n",
       "<style scoped>\n",
       "    .dataframe tbody tr th:only-of-type {\n",
       "        vertical-align: middle;\n",
       "    }\n",
       "\n",
       "    .dataframe tbody tr th {\n",
       "        vertical-align: top;\n",
       "    }\n",
       "\n",
       "    .dataframe thead th {\n",
       "        text-align: right;\n",
       "    }\n",
       "</style>\n",
       "<table border=\"1\" class=\"dataframe\">\n",
       "  <thead>\n",
       "    <tr style=\"text-align: right;\">\n",
       "      <th></th>\n",
       "      <th>vader_score</th>\n",
       "    </tr>\n",
       "    <tr>\n",
       "      <th>date</th>\n",
       "      <th></th>\n",
       "    </tr>\n",
       "  </thead>\n",
       "  <tbody>\n",
       "    <tr>\n",
       "      <th>2020-01-01</th>\n",
       "      <td>0.164063</td>\n",
       "    </tr>\n",
       "    <tr>\n",
       "      <th>2020-01-02</th>\n",
       "      <td>0.121434</td>\n",
       "    </tr>\n",
       "    <tr>\n",
       "      <th>2020-01-03</th>\n",
       "      <td>0.007988</td>\n",
       "    </tr>\n",
       "    <tr>\n",
       "      <th>2020-01-04</th>\n",
       "      <td>0.018787</td>\n",
       "    </tr>\n",
       "    <tr>\n",
       "      <th>2020-01-05</th>\n",
       "      <td>0.107574</td>\n",
       "    </tr>\n",
       "    <tr>\n",
       "      <th>...</th>\n",
       "      <td>...</td>\n",
       "    </tr>\n",
       "    <tr>\n",
       "      <th>2020-06-28</th>\n",
       "      <td>0.065130</td>\n",
       "    </tr>\n",
       "    <tr>\n",
       "      <th>2020-06-29</th>\n",
       "      <td>0.082066</td>\n",
       "    </tr>\n",
       "    <tr>\n",
       "      <th>2020-07-01</th>\n",
       "      <td>0.116194</td>\n",
       "    </tr>\n",
       "    <tr>\n",
       "      <th>2020-07-02</th>\n",
       "      <td>0.122132</td>\n",
       "    </tr>\n",
       "    <tr>\n",
       "      <th>2020-07-03</th>\n",
       "      <td>0.150255</td>\n",
       "    </tr>\n",
       "  </tbody>\n",
       "</table>\n",
       "<p>180 rows × 1 columns</p>\n",
       "</div>"
      ],
      "text/plain": [
       "            vader_score\n",
       "date                   \n",
       "2020-01-01     0.164063\n",
       "2020-01-02     0.121434\n",
       "2020-01-03     0.007988\n",
       "2020-01-04     0.018787\n",
       "2020-01-05     0.107574\n",
       "...                 ...\n",
       "2020-06-28     0.065130\n",
       "2020-06-29     0.082066\n",
       "2020-07-01     0.116194\n",
       "2020-07-02     0.122132\n",
       "2020-07-03     0.150255\n",
       "\n",
       "[180 rows x 1 columns]"
      ]
     },
     "execution_count": 198,
     "metadata": {},
     "output_type": "execute_result"
    }
   ],
   "source": [
    "mean_df.rename(columns = {'compound':'vader_score'}, inplace = True)\n",
    "mean_df"
   ]
  },
  {
   "cell_type": "code",
   "execution_count": 199,
   "metadata": {},
   "outputs": [],
   "source": [
    "mean_df.to_csv('sentiment_index/twees_vader_score.csv')"
   ]
  },
  {
   "cell_type": "markdown",
   "metadata": {},
   "source": [
    "COUNT NUMBER OF TWEETS PER EACH DAY"
   ]
  },
  {
   "cell_type": "code",
   "execution_count": 203,
   "metadata": {},
   "outputs": [
    {
     "data": {
      "text/plain": [
       "date\n",
       "2020-01-01     54\n",
       "2020-01-02    244\n",
       "2020-01-03    282\n",
       "2020-01-04     71\n",
       "2020-01-05     91\n",
       "             ... \n",
       "2020-06-28    212\n",
       "2020-06-29    459\n",
       "2020-07-01    472\n",
       "2020-07-02    464\n",
       "2020-07-03     71\n",
       "Name: text, Length: 180, dtype: int64"
      ]
     },
     "execution_count": 203,
     "metadata": {},
     "output_type": "execute_result"
    }
   ],
   "source": [
    "n_news = data.groupby(\"date\")['text'].count()\n",
    "n_news"
   ]
  },
  {
   "cell_type": "code",
   "execution_count": 273,
   "metadata": {},
   "outputs": [
    {
     "data": {
      "text/plain": [
       "<AxesSubplot:xlabel='date'>"
      ]
     },
     "execution_count": 273,
     "metadata": {},
     "output_type": "execute_result"
    },
    {
     "data": {
      "image/png": "[encoded data removed]",
      "text/plain": [
       "<Figure size 432x288 with 1 Axes>"
      ]
     },
     "metadata": {
      "needs_background": "light"
     },
     "output_type": "display_data"
    }
   ],
   "source": [
    "n_news.plot()"
   ]
  },
  {
   "cell_type": "markdown",
   "metadata": {},
   "source": [
    "COUNT NUMBER OF TWEETS PER MONTH"
   ]
  },
  {
   "cell_type": "code",
   "execution_count": 207,
   "metadata": {},
   "outputs": [
    {
     "data": {
      "text/plain": [
       "date\n",
       "1     8178\n",
       "2     8155\n",
       "3    13461\n",
       "4    11493\n",
       "5    13629\n",
       "6    12940\n",
       "7     1007\n",
       "Name: text, dtype: int64"
      ]
     },
     "execution_count": 207,
     "metadata": {},
     "output_type": "execute_result"
    }
   ],
   "source": [
    "monthly = data.groupby(data.date.dt.month)['text'].count()\n",
    "monthly"
   ]
  },
  {
   "cell_type": "code",
   "execution_count": 208,
   "metadata": {},
   "outputs": [
    {
     "data": {
      "text/plain": [
       "Text(0.5, 1.0, 'NUMBER OF TWEETS OVER 2020')"
      ]
     },
     "execution_count": 208,
     "metadata": {},
     "output_type": "execute_result"
    },
    {
     "data": {
      "image/png": "[encoded data removed]",
      "text/plain": [
       "<Figure size 432x288 with 1 Axes>"
      ]
     },
     "metadata": {
      "needs_background": "light"
     },
     "output_type": "display_data"
    }
   ],
   "source": [
    "monthly.plot()\n",
    "plt.title(\"NUMBER OF TWEETS OVER 2020\")"
   ]
  },
  {
   "cell_type": "markdown",
   "metadata": {},
   "source": [
    "PLOT THE VADER SENTIMENT SCORES FOR TWEETS DATASET"
   ]
  },
  {
   "cell_type": "code",
   "execution_count": 252,
   "metadata": {},
   "outputs": [
    {
     "data": {
      "text/plain": [
       "<matplotlib.lines.Line2D at 0x24cdd85bc08>"
      ]
     },
     "execution_count": 252,
     "metadata": {},
     "output_type": "execute_result"
    },
    {
     "data": {
      "image/png": "[encoded data removed]",
      "text/plain": [
       "<Figure size 432x288 with 1 Axes>"
      ]
     },
     "metadata": {
      "needs_background": "light"
     },
     "output_type": "display_data"
    }
   ],
   "source": [
    "mean_df.plot()\n",
    "plt.axhline(0, color='red')"
   ]
  },
  {
   "cell_type": "code",
   "execution_count": 259,
   "metadata": {},
   "outputs": [
    {
     "data": {
      "text/html": [
       "<div>\n",
       "<style scoped>\n",
       "    .dataframe tbody tr th:only-of-type {\n",
       "        vertical-align: middle;\n",
       "    }\n",
       "\n",
       "    .dataframe tbody tr th {\n",
       "        vertical-align: top;\n",
       "    }\n",
       "\n",
       "    .dataframe thead th {\n",
       "        text-align: right;\n",
       "    }\n",
       "</style>\n",
       "<table border=\"1\" class=\"dataframe\">\n",
       "  <thead>\n",
       "    <tr style=\"text-align: right;\">\n",
       "      <th></th>\n",
       "      <th>vader_score</th>\n",
       "    </tr>\n",
       "    <tr>\n",
       "      <th>date</th>\n",
       "      <th></th>\n",
       "    </tr>\n",
       "  </thead>\n",
       "  <tbody>\n",
       "    <tr>\n",
       "      <th>1</th>\n",
       "      <td>0.055215</td>\n",
       "    </tr>\n",
       "    <tr>\n",
       "      <th>2</th>\n",
       "      <td>0.024477</td>\n",
       "    </tr>\n",
       "    <tr>\n",
       "      <th>3</th>\n",
       "      <td>0.043120</td>\n",
       "    </tr>\n",
       "    <tr>\n",
       "      <th>4</th>\n",
       "      <td>0.063171</td>\n",
       "    </tr>\n",
       "    <tr>\n",
       "      <th>5</th>\n",
       "      <td>0.071528</td>\n",
       "    </tr>\n",
       "    <tr>\n",
       "      <th>6</th>\n",
       "      <td>0.084999</td>\n",
       "    </tr>\n",
       "    <tr>\n",
       "      <th>7</th>\n",
       "      <td>0.129527</td>\n",
       "    </tr>\n",
       "  </tbody>\n",
       "</table>\n",
       "</div>"
      ],
      "text/plain": [
       "      vader_score\n",
       "date             \n",
       "1        0.055215\n",
       "2        0.024477\n",
       "3        0.043120\n",
       "4        0.063171\n",
       "5        0.071528\n",
       "6        0.084999\n",
       "7        0.129527"
      ]
     },
     "execution_count": 259,
     "metadata": {},
     "output_type": "execute_result"
    }
   ],
   "source": [
    "mean_month = mean_df.groupby(mean_df.index.month).mean() #avg for each month\n",
    "mean_month"
   ]
  },
  {
   "cell_type": "code",
   "execution_count": 260,
   "metadata": {},
   "outputs": [
    {
     "data": {
      "text/plain": [
       "<matplotlib.lines.Line2D at 0x24cde3566c8>"
      ]
     },
     "execution_count": 260,
     "metadata": {},
     "output_type": "execute_result"
    },
    {
     "data": {
      "image/png": "[encoded data removed]",
      "text/plain": [
       "<Figure size 432x288 with 1 Axes>"
      ]
     },
     "metadata": {
      "needs_background": "light"
     },
     "output_type": "display_data"
    }
   ],
   "source": [
    "mean_month.plot()\n",
    "plt.axhline(0, color='red')"
   ]
  },
  {
   "cell_type": "markdown",
   "metadata": {},
   "source": [
    "CREATION OF VADER LABELS (POSITIVE, NEUTRAL, NEGATIVE) WITH A COMPOUND TRESHOLD OF [ -0.025, +0.025 ]"
   ]
  },
  {
   "cell_type": "code",
   "execution_count": 267,
   "metadata": {},
   "outputs": [
    {
     "name": "stderr",
     "output_type": "stream",
     "text": [
      "C:\\Users\\Giulia\\Anaconda3\\lib\\site-packages\\ipykernel_launcher.py:19: SettingWithCopyWarning: \n",
      "A value is trying to be set on a copy of a slice from a DataFrame.\n",
      "Try using .loc[row_indexer,col_indexer] = value instead\n",
      "\n",
      "See the caveats in the documentation: https://pandas.pydata.org/pandas-docs/stable/user_guide/indexing.html#returning-a-view-versus-a-copy\n",
      "C:\\Users\\Giulia\\Anaconda3\\lib\\site-packages\\pandas\\core\\frame.py:5047: SettingWithCopyWarning: \n",
      "A value is trying to be set on a copy of a slice from a DataFrame\n",
      "\n",
      "See the caveats in the documentation: https://pandas.pydata.org/pandas-docs/stable/user_guide/indexing.html#returning-a-view-versus-a-copy\n",
      "  errors=errors,\n"
     ]
    },
    {
     "data": {
      "text/html": [
       "<div>\n",
       "<style scoped>\n",
       "    .dataframe tbody tr th:only-of-type {\n",
       "        vertical-align: middle;\n",
       "    }\n",
       "\n",
       "    .dataframe tbody tr th {\n",
       "        vertical-align: top;\n",
       "    }\n",
       "\n",
       "    .dataframe thead th {\n",
       "        text-align: right;\n",
       "    }\n",
       "</style>\n",
       "<table border=\"1\" class=\"dataframe\">\n",
       "  <thead>\n",
       "    <tr style=\"text-align: right;\">\n",
       "      <th></th>\n",
       "      <th>date</th>\n",
       "      <th>text</th>\n",
       "      <th>vader_score</th>\n",
       "      <th>vader_label</th>\n",
       "    </tr>\n",
       "  </thead>\n",
       "  <tbody>\n",
       "    <tr>\n",
       "      <th>24849</th>\n",
       "      <td>2020-03-19</td>\n",
       "      <td>us dollar may rebound as financial markets face global recession #spx</td>\n",
       "      <td>-0.4215</td>\n",
       "      <td>negative</td>\n",
       "    </tr>\n",
       "    <tr>\n",
       "      <th>61515</th>\n",
       "      <td>2020-06-13</td>\n",
       "      <td>#spx $sp500 sector #utilities #large #stocks distribution  side stocks: $duk $fe</td>\n",
       "      <td>0.0000</td>\n",
       "      <td>neutral</td>\n",
       "    </tr>\n",
       "    <tr>\n",
       "      <th>29031</th>\n",
       "      <td>2020-03-28</td>\n",
       "      <td>sold out of $kid, $epr and $asc with positive returns  i still have some shares in $asc, and not gonna sell those at this moment  #finance #economy #dividendinvesting #fintwit #investering #investment #nasdaq #nyse #stocks #økonomi #sp500 #osebx</td>\n",
       "      <td>0.7003</td>\n",
       "      <td>positive</td>\n",
       "    </tr>\n",
       "    <tr>\n",
       "      <th>5451</th>\n",
       "      <td>2020-01-23</td>\n",
       "      <td>#usd cb consumer confidence  actual6 vs0 expected  stronger #afternewsevent #forex #fx #futures #sp500 #eurusd #oil #us10y open in #bettertrader app:</td>\n",
       "      <td>0.7096</td>\n",
       "      <td>positive</td>\n",
       "    </tr>\n",
       "    <tr>\n",
       "      <th>46018</th>\n",
       "      <td>2020-05-11</td>\n",
       "      <td>major currencies giving up gains overnight coming into the ny open  #audusd drops from to in 2hrs  expect it to gain with a positive open #spx #forex</td>\n",
       "      <td>0.8957</td>\n",
       "      <td>positive</td>\n",
       "    </tr>\n",
       "  </tbody>\n",
       "</table>\n",
       "</div>"
      ],
      "text/plain": [
       "            date  \\\n",
       "24849 2020-03-19   \n",
       "61515 2020-06-13   \n",
       "29031 2020-03-28   \n",
       "5451  2020-01-23   \n",
       "46018 2020-05-11   \n",
       "\n",
       "                                                                                                                                                                                                                                                        text  \\\n",
       "24849                                                                                                                                                                                 us dollar may rebound as financial markets face global recession #spx    \n",
       "61515                                                                                                                                                                      #spx $sp500 sector #utilities #large #stocks distribution  side stocks: $duk $fe    \n",
       "29031  sold out of $kid, $epr and $asc with positive returns  i still have some shares in $asc, and not gonna sell those at this moment  #finance #economy #dividendinvesting #fintwit #investering #investment #nasdaq #nyse #stocks #økonomi #sp500 #osebx   \n",
       "5451                                                                                                  #usd cb consumer confidence  actual6 vs0 expected  stronger #afternewsevent #forex #fx #futures #sp500 #eurusd #oil #us10y open in #bettertrader app:    \n",
       "46018                                                                                                 major currencies giving up gains overnight coming into the ny open  #audusd drops from to in 2hrs  expect it to gain with a positive open #spx #forex    \n",
       "\n",
       "       vader_score vader_label  \n",
       "24849      -0.4215    negative  \n",
       "61515       0.0000     neutral  \n",
       "29031       0.7003    positive  \n",
       "5451        0.7096    positive  \n",
       "46018       0.8957    positive  "
      ]
     },
     "execution_count": 267,
     "metadata": {},
     "output_type": "execute_result"
    }
   ],
   "source": [
    "def format_output(output_dict):\n",
    "  \n",
    "    polarity = \"neutral\"\n",
    "\n",
    "    if output_dict['compound']>= 0.025:\n",
    "        polarity = \"positive\"\n",
    "\n",
    "    elif output_dict['compound']<= -0.025:\n",
    "        polarity = \"negative\"\n",
    "\n",
    "    return polarity\n",
    "\n",
    "def predict_sentiment(text):\n",
    "  \n",
    "    output_dict =  vader.polarity_scores(text)\n",
    "    return format_output(output_dict)\n",
    "\n",
    "# Run the predictions\n",
    "data[\"vader_prediction\"] = data[\"text\"].apply(predict_sentiment)\n",
    "\n",
    "data.rename(columns = {'compound':'vader_score'}, inplace = True)\n",
    "data.rename(columns = {'vader_prediction':'vader_label'}, inplace = True)\n",
    "\n",
    "# Show 5 random rows of the data\n",
    "data.sample(5)"
   ]
  },
  {
   "cell_type": "code",
   "execution_count": 268,
   "metadata": {},
   "outputs": [
    {
     "data": {
      "text/html": [
       "<div>\n",
       "<style scoped>\n",
       "    .dataframe tbody tr th:only-of-type {\n",
       "        vertical-align: middle;\n",
       "    }\n",
       "\n",
       "    .dataframe tbody tr th {\n",
       "        vertical-align: top;\n",
       "    }\n",
       "\n",
       "    .dataframe thead th {\n",
       "        text-align: right;\n",
       "    }\n",
       "</style>\n",
       "<table border=\"1\" class=\"dataframe\">\n",
       "  <thead>\n",
       "    <tr style=\"text-align: right;\">\n",
       "      <th></th>\n",
       "      <th>date</th>\n",
       "      <th>text</th>\n",
       "      <th>vader_score</th>\n",
       "      <th>vader_label</th>\n",
       "    </tr>\n",
       "  </thead>\n",
       "  <tbody>\n",
       "    <tr>\n",
       "      <th>0</th>\n",
       "      <td>2020-01-01</td>\n",
       "      <td>wish #you and your #family all a very \"happy and prosperous\" #newyear2020 #spx500 #spx #binaryoptions #nadex #es_f #stockmarket #trader #optionstrading #options</td>\n",
       "      <td>0.8766</td>\n",
       "      <td>positive</td>\n",
       "    </tr>\n",
       "    <tr>\n",
       "      <th>1</th>\n",
       "      <td>2020-01-01</td>\n",
       "      <td>while clearly overbought short term, there are some powerful dynamics approaching that could drive stocks $spx #spx #stocks</td>\n",
       "      <td>0.7650</td>\n",
       "      <td>positive</td>\n",
       "    </tr>\n",
       "    <tr>\n",
       "      <th>2</th>\n",
       "      <td>2020-01-01</td>\n",
       "      <td>where is a good acting guy ???? #sp500 #stockmarket</td>\n",
       "      <td>0.5940</td>\n",
       "      <td>positive</td>\n",
       "    </tr>\n",
       "    <tr>\n",
       "      <th>3</th>\n",
       "      <td>2020-01-01</td>\n",
       "      <td>way to ring it in bruh, #facts hny! #spx</td>\n",
       "      <td>0.0000</td>\n",
       "      <td>neutral</td>\n",
       "    </tr>\n",
       "    <tr>\n",
       "      <th>4</th>\n",
       "      <td>2020-01-01</td>\n",
       "      <td>use the time when nothing is happening in the markets wisely    #trading #forex #fx #spx #spy #djia #gbpusd #tradingpsychology #daytrading</td>\n",
       "      <td>0.4215</td>\n",
       "      <td>positive</td>\n",
       "    </tr>\n",
       "    <tr>\n",
       "      <th>...</th>\n",
       "      <td>...</td>\n",
       "      <td>...</td>\n",
       "      <td>...</td>\n",
       "      <td>...</td>\n",
       "    </tr>\n",
       "    <tr>\n",
       "      <th>68858</th>\n",
       "      <td>2020-07-03</td>\n",
       "      <td>#atm #vol #sp500 #nq #djia front month august 28,cme es cme sp cme nq cbt ym</td>\n",
       "      <td>0.0000</td>\n",
       "      <td>neutral</td>\n",
       "    </tr>\n",
       "    <tr>\n",
       "      <th>68859</th>\n",
       "      <td>2020-07-03</td>\n",
       "      <td>\"the bond market reflation bets that have proven popular in the recovery from the march market cataclysm now face tougher odds\"</td>\n",
       "      <td>0.5423</td>\n",
       "      <td>positive</td>\n",
       "    </tr>\n",
       "    <tr>\n",
       "      <th>68860</th>\n",
       "      <td>2020-07-03</td>\n",
       "      <td>callum thomas says that #spx is in bubble terriotory based on put/call #option ratio, but institutional investors are pessemistic and #darkpool buy activity dropped</td>\n",
       "      <td>0.0000</td>\n",
       "      <td>neutral</td>\n",
       "    </tr>\n",
       "    <tr>\n",
       "      <th>68861</th>\n",
       "      <td>2020-07-03</td>\n",
       "      <td>your weekly market recap  #dataviz #sp500</td>\n",
       "      <td>0.0000</td>\n",
       "      <td>neutral</td>\n",
       "    </tr>\n",
       "    <tr>\n",
       "      <th>68862</th>\n",
       "      <td>2020-07-03</td>\n",
       "      <td>you don’t have to know what will happen in the market and how it would behave and you shouldn’t care, you should be reacting on what is happening in the market  don’t predict, react  #nasdaq #spx500 #djia</td>\n",
       "      <td>0.4939</td>\n",
       "      <td>positive</td>\n",
       "    </tr>\n",
       "  </tbody>\n",
       "</table>\n",
       "<p>68863 rows × 4 columns</p>\n",
       "</div>"
      ],
      "text/plain": [
       "            date  \\\n",
       "0     2020-01-01   \n",
       "1     2020-01-01   \n",
       "2     2020-01-01   \n",
       "3     2020-01-01   \n",
       "4     2020-01-01   \n",
       "...          ...   \n",
       "68858 2020-07-03   \n",
       "68859 2020-07-03   \n",
       "68860 2020-07-03   \n",
       "68861 2020-07-03   \n",
       "68862 2020-07-03   \n",
       "\n",
       "                                                                                                                                                                                                               text  \\\n",
       "0                                                 wish #you and your #family all a very \"happy and prosperous\" #newyear2020 #spx500 #spx #binaryoptions #nadex #es_f #stockmarket #trader #optionstrading #options    \n",
       "1                                                                                      while clearly overbought short term, there are some powerful dynamics approaching that could drive stocks $spx #spx #stocks    \n",
       "2                                                                                                                                                               where is a good acting guy ???? #sp500 #stockmarket   \n",
       "3                                                                                                                                                                          way to ring it in bruh, #facts hny! #spx   \n",
       "4                                                                       use the time when nothing is happening in the markets wisely    #trading #forex #fx #spx #spy #djia #gbpusd #tradingpsychology #daytrading    \n",
       "...                                                                                                                                                                                                             ...   \n",
       "68858                                                                                                                                 #atm #vol #sp500 #nq #djia front month august 28,cme es cme sp cme nq cbt ym    \n",
       "68859                                                                              \"the bond market reflation bets that have proven popular in the recovery from the march market cataclysm now face tougher odds\"    \n",
       "68860                                        callum thomas says that #spx is in bubble terriotory based on put/call #option ratio, but institutional investors are pessemistic and #darkpool buy activity dropped     \n",
       "68861                                                                                                                                                                    your weekly market recap  #dataviz #sp500    \n",
       "68862  you don’t have to know what will happen in the market and how it would behave and you shouldn’t care, you should be reacting on what is happening in the market  don’t predict, react  #nasdaq #spx500 #djia   \n",
       "\n",
       "       vader_score vader_label  \n",
       "0           0.8766    positive  \n",
       "1           0.7650    positive  \n",
       "2           0.5940    positive  \n",
       "3           0.0000     neutral  \n",
       "4           0.4215    positive  \n",
       "...            ...         ...  \n",
       "68858       0.0000     neutral  \n",
       "68859       0.5423    positive  \n",
       "68860       0.0000     neutral  \n",
       "68861       0.0000     neutral  \n",
       "68862       0.4939    positive  \n",
       "\n",
       "[68863 rows x 4 columns]"
      ]
     },
     "execution_count": 268,
     "metadata": {},
     "output_type": "execute_result"
    }
   ],
   "source": [
    "data"
   ]
  },
  {
   "cell_type": "code",
   "execution_count": 269,
   "metadata": {},
   "outputs": [
    {
     "data": {
      "text/plain": [
       "neutral     29513\n",
       "positive    23507\n",
       "negative    15843\n",
       "Name: vader_label, dtype: int64"
      ]
     },
     "execution_count": 269,
     "metadata": {},
     "output_type": "execute_result"
    }
   ],
   "source": [
    "data['vader_label'].value_counts()"
   ]
  },
  {
   "cell_type": "code",
   "execution_count": 270,
   "metadata": {},
   "outputs": [
    {
     "data": {
      "text/plain": [
       "neutral     0.428576\n",
       "positive    0.341359\n",
       "negative    0.230065\n",
       "Name: vader_label, dtype: float64"
      ]
     },
     "execution_count": 270,
     "metadata": {},
     "output_type": "execute_result"
    }
   ],
   "source": [
    "data['vader_label'].value_counts(normalize=True)"
   ]
  },
  {
   "cell_type": "code",
   "execution_count": 239,
   "metadata": {},
   "outputs": [
    {
     "data": {
      "text/html": [
       "<div>\n",
       "<style scoped>\n",
       "    .dataframe tbody tr th:only-of-type {\n",
       "        vertical-align: middle;\n",
       "    }\n",
       "\n",
       "    .dataframe tbody tr th {\n",
       "        vertical-align: top;\n",
       "    }\n",
       "\n",
       "    .dataframe thead th {\n",
       "        text-align: right;\n",
       "    }\n",
       "</style>\n",
       "<table border=\"1\" class=\"dataframe\">\n",
       "  <thead>\n",
       "    <tr style=\"text-align: right;\">\n",
       "      <th></th>\n",
       "      <th>date</th>\n",
       "      <th>text</th>\n",
       "      <th>vader_score</th>\n",
       "      <th>vader_label</th>\n",
       "    </tr>\n",
       "  </thead>\n",
       "  <tbody>\n",
       "    <tr>\n",
       "      <th>0</th>\n",
       "      <td>2020-01-01</td>\n",
       "      <td>wish #you and your #family all a very \"happy and prosperous\" #newyear2020 #spx500 #spx #binaryoptions #nadex #es_f #stockmarket #trader #optionstrading #options</td>\n",
       "      <td>0.8766</td>\n",
       "      <td>positive</td>\n",
       "    </tr>\n",
       "    <tr>\n",
       "      <th>1</th>\n",
       "      <td>2020-01-01</td>\n",
       "      <td>while clearly overbought short term, there are some powerful dynamics approaching that could drive stocks $spx #spx #stocks</td>\n",
       "      <td>0.7650</td>\n",
       "      <td>positive</td>\n",
       "    </tr>\n",
       "    <tr>\n",
       "      <th>2</th>\n",
       "      <td>2020-01-01</td>\n",
       "      <td>where is a good acting guy ???? #sp500 #stockmarket</td>\n",
       "      <td>0.5940</td>\n",
       "      <td>positive</td>\n",
       "    </tr>\n",
       "    <tr>\n",
       "      <th>3</th>\n",
       "      <td>2020-01-01</td>\n",
       "      <td>way to ring it in bruh, #facts hny! #spx</td>\n",
       "      <td>0.0000</td>\n",
       "      <td>neutral</td>\n",
       "    </tr>\n",
       "    <tr>\n",
       "      <th>4</th>\n",
       "      <td>2020-01-01</td>\n",
       "      <td>use the time when nothing is happening in the markets wisely    #trading #forex #fx #spx #spy #djia #gbpusd #tradingpsychology #daytrading</td>\n",
       "      <td>0.4215</td>\n",
       "      <td>positive</td>\n",
       "    </tr>\n",
       "    <tr>\n",
       "      <th>...</th>\n",
       "      <td>...</td>\n",
       "      <td>...</td>\n",
       "      <td>...</td>\n",
       "      <td>...</td>\n",
       "    </tr>\n",
       "    <tr>\n",
       "      <th>68858</th>\n",
       "      <td>2020-07-03</td>\n",
       "      <td>#atm #vol #sp500 #nq #djia front month august 28,cme es cme sp cme nq cbt ym</td>\n",
       "      <td>0.0000</td>\n",
       "      <td>neutral</td>\n",
       "    </tr>\n",
       "    <tr>\n",
       "      <th>68859</th>\n",
       "      <td>2020-07-03</td>\n",
       "      <td>\"the bond market reflation bets that have proven popular in the recovery from the march market cataclysm now face tougher odds\"</td>\n",
       "      <td>0.5423</td>\n",
       "      <td>positive</td>\n",
       "    </tr>\n",
       "    <tr>\n",
       "      <th>68860</th>\n",
       "      <td>2020-07-03</td>\n",
       "      <td>callum thomas says that #spx is in bubble terriotory based on put/call #option ratio, but institutional investors are pessemistic and #darkpool buy activity dropped</td>\n",
       "      <td>0.0000</td>\n",
       "      <td>neutral</td>\n",
       "    </tr>\n",
       "    <tr>\n",
       "      <th>68861</th>\n",
       "      <td>2020-07-03</td>\n",
       "      <td>your weekly market recap  #dataviz #sp500</td>\n",
       "      <td>0.0000</td>\n",
       "      <td>neutral</td>\n",
       "    </tr>\n",
       "    <tr>\n",
       "      <th>68862</th>\n",
       "      <td>2020-07-03</td>\n",
       "      <td>you don’t have to know what will happen in the market and how it would behave and you shouldn’t care, you should be reacting on what is happening in the market  don’t predict, react  #nasdaq #spx500 #djia</td>\n",
       "      <td>0.4939</td>\n",
       "      <td>positive</td>\n",
       "    </tr>\n",
       "  </tbody>\n",
       "</table>\n",
       "<p>68863 rows × 4 columns</p>\n",
       "</div>"
      ],
      "text/plain": [
       "            date  \\\n",
       "0     2020-01-01   \n",
       "1     2020-01-01   \n",
       "2     2020-01-01   \n",
       "3     2020-01-01   \n",
       "4     2020-01-01   \n",
       "...          ...   \n",
       "68858 2020-07-03   \n",
       "68859 2020-07-03   \n",
       "68860 2020-07-03   \n",
       "68861 2020-07-03   \n",
       "68862 2020-07-03   \n",
       "\n",
       "                                                                                                                                                                                                               text  \\\n",
       "0                                                 wish #you and your #family all a very \"happy and prosperous\" #newyear2020 #spx500 #spx #binaryoptions #nadex #es_f #stockmarket #trader #optionstrading #options    \n",
       "1                                                                                      while clearly overbought short term, there are some powerful dynamics approaching that could drive stocks $spx #spx #stocks    \n",
       "2                                                                                                                                                               where is a good acting guy ???? #sp500 #stockmarket   \n",
       "3                                                                                                                                                                          way to ring it in bruh, #facts hny! #spx   \n",
       "4                                                                       use the time when nothing is happening in the markets wisely    #trading #forex #fx #spx #spy #djia #gbpusd #tradingpsychology #daytrading    \n",
       "...                                                                                                                                                                                                             ...   \n",
       "68858                                                                                                                                 #atm #vol #sp500 #nq #djia front month august 28,cme es cme sp cme nq cbt ym    \n",
       "68859                                                                              \"the bond market reflation bets that have proven popular in the recovery from the march market cataclysm now face tougher odds\"    \n",
       "68860                                        callum thomas says that #spx is in bubble terriotory based on put/call #option ratio, but institutional investors are pessemistic and #darkpool buy activity dropped     \n",
       "68861                                                                                                                                                                    your weekly market recap  #dataviz #sp500    \n",
       "68862  you don’t have to know what will happen in the market and how it would behave and you shouldn’t care, you should be reacting on what is happening in the market  don’t predict, react  #nasdaq #spx500 #djia   \n",
       "\n",
       "       vader_score vader_label  \n",
       "0           0.8766    positive  \n",
       "1           0.7650    positive  \n",
       "2           0.5940    positive  \n",
       "3           0.0000     neutral  \n",
       "4           0.4215    positive  \n",
       "...            ...         ...  \n",
       "68858       0.0000     neutral  \n",
       "68859       0.5423    positive  \n",
       "68860       0.0000     neutral  \n",
       "68861       0.0000     neutral  \n",
       "68862       0.4939    positive  \n",
       "\n",
       "[68863 rows x 4 columns]"
      ]
     },
     "execution_count": 239,
     "metadata": {},
     "output_type": "execute_result"
    }
   ],
   "source": [
    "data"
   ]
  },
  {
   "cell_type": "code",
   "execution_count": 240,
   "metadata": {},
   "outputs": [],
   "source": [
    "data.to_csv('sentiment_analysis_results/tweets_vader_senti_after_cl.csv', index=False, encoding='utf-8-sig')"
   ]
  },
  {
   "cell_type": "code",
   "execution_count": null,
   "metadata": {},
   "outputs": [],
   "source": []
  }
 ],
 "metadata": {
  "kernelspec": {
   "display_name": "Python 3",
   "language": "python",
   "name": "python3"
  },
  "language_info": {
   "codemirror_mode": {
    "name": "ipython",
    "version": 3
   },
   "file_extension": ".py",
   "mimetype": "text/x-python",
   "name": "python",
   "nbconvert_exporter": "python",
   "pygments_lexer": "ipython3",
   "version": "3.7.4"
  }
 },
 "nbformat": 4,
 "nbformat_minor": 4
}
